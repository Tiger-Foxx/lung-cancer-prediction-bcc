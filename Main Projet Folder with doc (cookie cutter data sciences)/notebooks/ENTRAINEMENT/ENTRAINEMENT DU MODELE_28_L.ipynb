{
 "cells": [
  {
   "metadata": {},
   "cell_type": "markdown",
   "source": "# ENTRAINEMENT DU MODEL SUR LE DATASET 28L : IMAGES 28x28 EN NIIVEAU DE GRIS",
   "id": "a95c4a26894c9c0"
  },
  {
   "metadata": {
    "ExecuteTime": {
     "end_time": "2024-12-28T12:28:18.733667Z",
     "start_time": "2024-12-28T12:28:18.721352Z"
    }
   },
   "cell_type": "code",
   "source": "#cd \"C:\\Users\\donfa\\OneDrive\\Desktop\\PROJET MACHINE LEARNING\\skin-cancer-prediction-bcc\"",
   "id": "8364ff2ac1baff90",
   "outputs": [
    {
     "name": "stdout",
     "output_type": "stream",
     "text": [
      "C:\\Users\\donfa\\OneDrive\\Desktop\\PROJET MACHINE LEARNING\\skin-cancer-prediction-bcc\n"
     ]
    }
   ],
   "execution_count": 1
  },
  {
   "metadata": {
    "ExecuteTime": {
     "end_time": "2024-12-28T12:28:24.742871Z",
     "start_time": "2024-12-28T12:28:23.687088Z"
    }
   },
   "cell_type": "code",
   "source": [
    "import pandas as pd\n",
    "from rich.jupyter import display\n",
    "from sklearn.linear_model import LogisticRegression\n",
    "from sklearn.metrics import accuracy_score, confusion_matrix, roc_auc_score\n",
    "import numpy as np\n",
    "from sklearn.model_selection import train_test_split\n",
    "from sklearn.preprocessing import StandardScaler,MinMaxScaler\n",
    "from sklearn.ensemble import RandomForestClassifier , GradientBoostingClassifier\n",
    "from sklearn.metrics import classification_report, confusion_matrix\n",
    "import pickle\n",
    "from sklearn.linear_model import LogisticRegression\n",
    "from sklearn.ensemble import RandomForestClassifier\n",
    "from sklearn.svm import SVC\n",
    "from sklearn.neighbors import KNeighborsClassifier\n",
    "from sklearn.tree import DecisionTreeClassifier\n",
    "from sklearn.metrics import classification_report, accuracy_score, confusion_matrix, roc_auc_score\n",
    "from sklearn.model_selection import train_test_split, cross_val_score\n",
    "import matplotlib.pyplot as plt\n",
    "import seaborn as sns\n",
    "\n"
   ],
   "id": "e971da29cdead3ec",
   "outputs": [],
   "execution_count": 2
  },
  {
   "metadata": {},
   "cell_type": "markdown",
   "source": "",
   "id": "eab5675734e2dee"
  },
  {
   "metadata": {
    "ExecuteTime": {
     "end_time": "2024-12-28T12:31:19.090865Z",
     "start_time": "2024-12-28T12:31:17.265198Z"
    }
   },
   "cell_type": "code",
   "source": [
    "# Charger le dataset\n",
    "dataset_path = \"data/processed/Meta_Data_Processed_28L.csv\"\n",
    "df = pd.read_csv(dataset_path)\n",
    "\n",
    "\n",
    "print(f\"Dimensions du dataset : {df.shape}\")\n",
    "df.head()"
   ],
   "id": "caff4f3c8a78613",
   "outputs": [
    {
     "name": "stdout",
     "output_type": "stream",
     "text": [
      "Dimensions du dataset : (10015, 801)\n"
     ]
    },
    {
     "data": {
      "text/plain": [
       "   pixel0000  pixel0001  pixel0002  pixel0003  pixel0004  pixel0005  \\\n",
       "0        169        171        170        177        181        182   \n",
       "1         19         57        105        140        149        148   \n",
       "2        155        163        161        167        167        172   \n",
       "3         25         71        116        139        136        153   \n",
       "4        129        162        181        196        205        208   \n",
       "\n",
       "   pixel0006  pixel0007  pixel0008  pixel0009  ...  localization_face  \\\n",
       "0        181        185        194        192  ...                  0   \n",
       "1        144        155        170        170  ...                  0   \n",
       "2        155        152        165        175  ...                  0   \n",
       "3        148        161        172        162  ...                  0   \n",
       "4        205        213        225        224  ...                  0   \n",
       "\n",
       "   localization_foot  localization_genital  localization_hand  \\\n",
       "0                  0                     0                  0   \n",
       "1                  0                     0                  0   \n",
       "2                  0                     0                  0   \n",
       "3                  0                     0                  0   \n",
       "4                  0                     0                  0   \n",
       "\n",
       "   localization_lower extremity  localization_neck  localization_scalp  \\\n",
       "0                             0                  0                   1   \n",
       "1                             0                  0                   1   \n",
       "2                             0                  0                   1   \n",
       "3                             0                  0                   1   \n",
       "4                             0                  0                   0   \n",
       "\n",
       "   localization_trunk  localization_unknown  localization_upper extremity  \n",
       "0                   0                     0                             0  \n",
       "1                   0                     0                             0  \n",
       "2                   0                     0                             0  \n",
       "3                   0                     0                             0  \n",
       "4                   0                     0                             0  \n",
       "\n",
       "[5 rows x 801 columns]"
      ],
      "text/html": [
       "<div>\n",
       "<style scoped>\n",
       "    .dataframe tbody tr th:only-of-type {\n",
       "        vertical-align: middle;\n",
       "    }\n",
       "\n",
       "    .dataframe tbody tr th {\n",
       "        vertical-align: top;\n",
       "    }\n",
       "\n",
       "    .dataframe thead th {\n",
       "        text-align: right;\n",
       "    }\n",
       "</style>\n",
       "<table border=\"1\" class=\"dataframe\">\n",
       "  <thead>\n",
       "    <tr style=\"text-align: right;\">\n",
       "      <th></th>\n",
       "      <th>pixel0000</th>\n",
       "      <th>pixel0001</th>\n",
       "      <th>pixel0002</th>\n",
       "      <th>pixel0003</th>\n",
       "      <th>pixel0004</th>\n",
       "      <th>pixel0005</th>\n",
       "      <th>pixel0006</th>\n",
       "      <th>pixel0007</th>\n",
       "      <th>pixel0008</th>\n",
       "      <th>pixel0009</th>\n",
       "      <th>...</th>\n",
       "      <th>localization_face</th>\n",
       "      <th>localization_foot</th>\n",
       "      <th>localization_genital</th>\n",
       "      <th>localization_hand</th>\n",
       "      <th>localization_lower extremity</th>\n",
       "      <th>localization_neck</th>\n",
       "      <th>localization_scalp</th>\n",
       "      <th>localization_trunk</th>\n",
       "      <th>localization_unknown</th>\n",
       "      <th>localization_upper extremity</th>\n",
       "    </tr>\n",
       "  </thead>\n",
       "  <tbody>\n",
       "    <tr>\n",
       "      <th>0</th>\n",
       "      <td>169</td>\n",
       "      <td>171</td>\n",
       "      <td>170</td>\n",
       "      <td>177</td>\n",
       "      <td>181</td>\n",
       "      <td>182</td>\n",
       "      <td>181</td>\n",
       "      <td>185</td>\n",
       "      <td>194</td>\n",
       "      <td>192</td>\n",
       "      <td>...</td>\n",
       "      <td>0</td>\n",
       "      <td>0</td>\n",
       "      <td>0</td>\n",
       "      <td>0</td>\n",
       "      <td>0</td>\n",
       "      <td>0</td>\n",
       "      <td>1</td>\n",
       "      <td>0</td>\n",
       "      <td>0</td>\n",
       "      <td>0</td>\n",
       "    </tr>\n",
       "    <tr>\n",
       "      <th>1</th>\n",
       "      <td>19</td>\n",
       "      <td>57</td>\n",
       "      <td>105</td>\n",
       "      <td>140</td>\n",
       "      <td>149</td>\n",
       "      <td>148</td>\n",
       "      <td>144</td>\n",
       "      <td>155</td>\n",
       "      <td>170</td>\n",
       "      <td>170</td>\n",
       "      <td>...</td>\n",
       "      <td>0</td>\n",
       "      <td>0</td>\n",
       "      <td>0</td>\n",
       "      <td>0</td>\n",
       "      <td>0</td>\n",
       "      <td>0</td>\n",
       "      <td>1</td>\n",
       "      <td>0</td>\n",
       "      <td>0</td>\n",
       "      <td>0</td>\n",
       "    </tr>\n",
       "    <tr>\n",
       "      <th>2</th>\n",
       "      <td>155</td>\n",
       "      <td>163</td>\n",
       "      <td>161</td>\n",
       "      <td>167</td>\n",
       "      <td>167</td>\n",
       "      <td>172</td>\n",
       "      <td>155</td>\n",
       "      <td>152</td>\n",
       "      <td>165</td>\n",
       "      <td>175</td>\n",
       "      <td>...</td>\n",
       "      <td>0</td>\n",
       "      <td>0</td>\n",
       "      <td>0</td>\n",
       "      <td>0</td>\n",
       "      <td>0</td>\n",
       "      <td>0</td>\n",
       "      <td>1</td>\n",
       "      <td>0</td>\n",
       "      <td>0</td>\n",
       "      <td>0</td>\n",
       "    </tr>\n",
       "    <tr>\n",
       "      <th>3</th>\n",
       "      <td>25</td>\n",
       "      <td>71</td>\n",
       "      <td>116</td>\n",
       "      <td>139</td>\n",
       "      <td>136</td>\n",
       "      <td>153</td>\n",
       "      <td>148</td>\n",
       "      <td>161</td>\n",
       "      <td>172</td>\n",
       "      <td>162</td>\n",
       "      <td>...</td>\n",
       "      <td>0</td>\n",
       "      <td>0</td>\n",
       "      <td>0</td>\n",
       "      <td>0</td>\n",
       "      <td>0</td>\n",
       "      <td>0</td>\n",
       "      <td>1</td>\n",
       "      <td>0</td>\n",
       "      <td>0</td>\n",
       "      <td>0</td>\n",
       "    </tr>\n",
       "    <tr>\n",
       "      <th>4</th>\n",
       "      <td>129</td>\n",
       "      <td>162</td>\n",
       "      <td>181</td>\n",
       "      <td>196</td>\n",
       "      <td>205</td>\n",
       "      <td>208</td>\n",
       "      <td>205</td>\n",
       "      <td>213</td>\n",
       "      <td>225</td>\n",
       "      <td>224</td>\n",
       "      <td>...</td>\n",
       "      <td>0</td>\n",
       "      <td>0</td>\n",
       "      <td>0</td>\n",
       "      <td>0</td>\n",
       "      <td>0</td>\n",
       "      <td>0</td>\n",
       "      <td>0</td>\n",
       "      <td>0</td>\n",
       "      <td>0</td>\n",
       "      <td>0</td>\n",
       "    </tr>\n",
       "  </tbody>\n",
       "</table>\n",
       "<p>5 rows × 801 columns</p>\n",
       "</div>"
      ]
     },
     "execution_count": 3,
     "metadata": {},
     "output_type": "execute_result"
    }
   ],
   "execution_count": 3
  },
  {
   "metadata": {},
   "cell_type": "markdown",
   "source": "#### Le dataset contient 801 colonnes de pixels (28x28) et 7 colonnes de métadonnées. , nous allons eliminer la colone label , car elle est redondante avec la colonne is_bcc",
   "id": "60f9dfe8c34e3fdc"
  },
  {
   "metadata": {},
   "cell_type": "code",
   "source": [
    "# Supprimer la colonne 'label'\n",
    "df.drop('label', axis=1, inplace=True)"
   ],
   "id": "eb7c3f1485e84d55",
   "outputs": [],
   "execution_count": null
  },
  {
   "metadata": {},
   "cell_type": "markdown",
   "source": "#### Leger resumé des données",
   "id": "c727a3b4bea4b790"
  },
  {
   "metadata": {
    "ExecuteTime": {
     "end_time": "2024-12-28T12:31:51.705749Z",
     "start_time": "2024-12-28T12:31:51.654184Z"
    }
   },
   "cell_type": "code",
   "source": [
    "# Informations sur le dataset\n",
    "print(\"\\nRésumé des données :\")\n",
    "(df.info())\n"
   ],
   "id": "1783772d1ed9c69c",
   "outputs": [
    {
     "name": "stdout",
     "output_type": "stream",
     "text": [
      "\n",
      "Résumé des données :\n",
      "<class 'pandas.core.frame.DataFrame'>\n",
      "RangeIndex: 10015 entries, 0 to 10014\n",
      "Columns: 800 entries, pixel0000 to localization_upper extremity\n",
      "dtypes: float64(1), int64(799)\n",
      "memory usage: 61.1 MB\n"
     ]
    }
   ],
   "execution_count": 6
  },
  {
   "metadata": {},
   "cell_type": "markdown",
   "source": "#### Gestion des evenuelles valeurs manquantes",
   "id": "b406ee185f57b135"
  },
  {
   "metadata": {
    "ExecuteTime": {
     "end_time": "2024-12-28T12:31:56.435939Z",
     "start_time": "2024-12-28T12:31:56.158662Z"
    }
   },
   "cell_type": "code",
   "source": [
    "# Vérification des valeurs manquantes\n",
    "missing_values = df.isnull().sum()\n",
    "print(\"\\nValeurs manquantes par colonne :\")\n",
    "print(missing_values[missing_values > 0])\n",
    "\n",
    "# Gestion des valeurs manquantes (imputation par la moyenne pour les colonnes numériques)\n",
    "df_cleaned = df.fillna(df.mean(numeric_only=True))\n",
    "\n",
    "# Confirmation des modifications\n",
    "print(\"\\nDataset après nettoyage :\")\n",
    "print(df_cleaned.head())\n",
    "print(f\"Dimensions après nettoyage : {df_cleaned.shape}\")"
   ],
   "id": "bd893292b8421fed",
   "outputs": [
    {
     "name": "stdout",
     "output_type": "stream",
     "text": [
      "\n",
      "Valeurs manquantes par colonne :\n",
      "age    57\n",
      "dtype: int64\n",
      "\n",
      "Dataset après nettoyage :\n",
      "   pixel0000  pixel0001  pixel0002  pixel0003  pixel0004  pixel0005  \\\n",
      "0        169        171        170        177        181        182   \n",
      "1         19         57        105        140        149        148   \n",
      "2        155        163        161        167        167        172   \n",
      "3         25         71        116        139        136        153   \n",
      "4        129        162        181        196        205        208   \n",
      "\n",
      "   pixel0006  pixel0007  pixel0008  pixel0009  ...  localization_face  \\\n",
      "0        181        185        194        192  ...                  0   \n",
      "1        144        155        170        170  ...                  0   \n",
      "2        155        152        165        175  ...                  0   \n",
      "3        148        161        172        162  ...                  0   \n",
      "4        205        213        225        224  ...                  0   \n",
      "\n",
      "   localization_foot  localization_genital  localization_hand  \\\n",
      "0                  0                     0                  0   \n",
      "1                  0                     0                  0   \n",
      "2                  0                     0                  0   \n",
      "3                  0                     0                  0   \n",
      "4                  0                     0                  0   \n",
      "\n",
      "   localization_lower extremity  localization_neck  localization_scalp  \\\n",
      "0                             0                  0                   1   \n",
      "1                             0                  0                   1   \n",
      "2                             0                  0                   1   \n",
      "3                             0                  0                   1   \n",
      "4                             0                  0                   0   \n",
      "\n",
      "   localization_trunk  localization_unknown  localization_upper extremity  \n",
      "0                   0                     0                             0  \n",
      "1                   0                     0                             0  \n",
      "2                   0                     0                             0  \n",
      "3                   0                     0                             0  \n",
      "4                   0                     0                             0  \n",
      "\n",
      "[5 rows x 800 columns]\n",
      "Dimensions après nettoyage : (10015, 800)\n"
     ]
    }
   ],
   "execution_count": 7
  },
  {
   "metadata": {},
   "cell_type": "markdown",
   "source": "### Division des Données en Ensembles d’Entraînement et de Test",
   "id": "970ffa64f896eba"
  },
  {
   "metadata": {
    "ExecuteTime": {
     "end_time": "2024-12-28T12:32:07.141124Z",
     "start_time": "2024-12-28T12:32:06.934223Z"
    }
   },
   "cell_type": "code",
   "source": [
    "X = df_cleaned.drop(columns=['is_bcc'], errors='ignore')  # 'is_bcc' est la cible\n",
    "y = df_cleaned['is_bcc']\n",
    "\n",
    "X_train, X_test, y_train, y_test = train_test_split(X, y, test_size=0.2, random_state=42)\n",
    "\n",
    "print(f\"\\nDimensions des ensembles d'entraînement : {X_train.shape}, {y_train.shape}\")\n",
    "print(f\"Dimensions des ensembles de test : {X_test.shape}, {y_test.shape}\")\n"
   ],
   "id": "841f35b467a4edac",
   "outputs": [
    {
     "name": "stdout",
     "output_type": "stream",
     "text": [
      "\n",
      "Dimensions des ensembles d'entraînement : (8012, 799), (8012,)\n",
      "Dimensions des ensembles de test : (2003, 799), (2003,)\n"
     ]
    }
   ],
   "execution_count": 8
  },
  {
   "metadata": {},
   "cell_type": "markdown",
   "source": [
    "### Standardisation des Caractéristiques\n",
    "Pour de meilleurs résultats avec certains modèles, il est important de standardiser les données."
   ],
   "id": "f775a7bc289fdc9d"
  },
  {
   "metadata": {
    "ExecuteTime": {
     "end_time": "2024-12-28T12:32:17.513599Z",
     "start_time": "2024-12-28T12:32:16.725663Z"
    }
   },
   "cell_type": "code",
   "source": [
    "# Standardisation des données\n",
    "scaler = StandardScaler()\n",
    "X_train_scaled = scaler.fit_transform(X_train)\n",
    "X_test_scaled = scaler.transform(X_test)\n",
    "\n",
    "print(\"\\nAperçu des données standardisées (entraînement) :\")\n",
    "pd.DataFrame(X_train_scaled, columns=X.columns).head()\n"
   ],
   "id": "38630e8d1344bea0",
   "outputs": [
    {
     "name": "stdout",
     "output_type": "stream",
     "text": [
      "\n",
      "Aperçu des données standardisées (entraînement) :\n"
     ]
    },
    {
     "data": {
      "text/plain": [
       "   pixel0000  pixel0001  pixel0002  pixel0003  pixel0004  pixel0005  \\\n",
       "0   0.556691   0.487888   0.421749   0.420977   0.337302   0.360568   \n",
       "1  -0.456823  -0.728590  -0.993835  -0.968050  -0.981311  -1.026808   \n",
       "2  -2.918216  -2.541831  -1.868923  -1.421609  -1.358058  -1.595987   \n",
       "3  -0.146564  -0.017065   0.035680   0.024112   0.117534  -0.030743   \n",
       "4  -0.477507  -0.544971  -0.633505  -0.627880  -0.510378  -0.599923   \n",
       "\n",
       "   pixel0006  pixel0007  pixel0008  pixel0009  ...  localization_face  \\\n",
       "0   0.471070   0.468353   0.397630   0.331268  ...           -0.28143   \n",
       "1  -0.646279  -0.574382  -0.718428  -1.058103  ...           -0.28143   \n",
       "2  -1.763629  -1.496801  -1.131783  -0.973899  ...           -0.28143   \n",
       "3  -0.106869  -0.173330  -0.222403  -0.216060  ...           -0.28143   \n",
       "4  -0.761867  -0.895224  -0.966441  -1.310716  ...           -0.28143   \n",
       "\n",
       "   localization_foot  localization_genital  localization_hand  \\\n",
       "0           -0.18639             -0.071719          -0.093882   \n",
       "1           -0.18639             -0.071719          -0.093882   \n",
       "2           -0.18639             -0.071719          -0.093882   \n",
       "3           -0.18639             -0.071719          -0.093882   \n",
       "4           -0.18639             -0.071719          -0.093882   \n",
       "\n",
       "   localization_lower extremity  localization_neck  localization_scalp  \\\n",
       "0                     -0.507906          -0.131406           -0.115791   \n",
       "1                     -0.507906          -0.131406           -0.115791   \n",
       "2                     -0.507906          -0.131406           -0.115791   \n",
       "3                     -0.507906          -0.131406           -0.115791   \n",
       "4                      1.968869          -0.131406           -0.115791   \n",
       "\n",
       "   localization_trunk  localization_unknown  localization_upper extremity  \n",
       "0           -0.404585             -0.155433                     -0.356179  \n",
       "1           -0.404585             -0.155433                      2.807576  \n",
       "2           -0.404585              6.433625                     -0.356179  \n",
       "3           -0.404585             -0.155433                     -0.356179  \n",
       "4           -0.404585             -0.155433                     -0.356179  \n",
       "\n",
       "[5 rows x 799 columns]"
      ],
      "text/html": [
       "<div>\n",
       "<style scoped>\n",
       "    .dataframe tbody tr th:only-of-type {\n",
       "        vertical-align: middle;\n",
       "    }\n",
       "\n",
       "    .dataframe tbody tr th {\n",
       "        vertical-align: top;\n",
       "    }\n",
       "\n",
       "    .dataframe thead th {\n",
       "        text-align: right;\n",
       "    }\n",
       "</style>\n",
       "<table border=\"1\" class=\"dataframe\">\n",
       "  <thead>\n",
       "    <tr style=\"text-align: right;\">\n",
       "      <th></th>\n",
       "      <th>pixel0000</th>\n",
       "      <th>pixel0001</th>\n",
       "      <th>pixel0002</th>\n",
       "      <th>pixel0003</th>\n",
       "      <th>pixel0004</th>\n",
       "      <th>pixel0005</th>\n",
       "      <th>pixel0006</th>\n",
       "      <th>pixel0007</th>\n",
       "      <th>pixel0008</th>\n",
       "      <th>pixel0009</th>\n",
       "      <th>...</th>\n",
       "      <th>localization_face</th>\n",
       "      <th>localization_foot</th>\n",
       "      <th>localization_genital</th>\n",
       "      <th>localization_hand</th>\n",
       "      <th>localization_lower extremity</th>\n",
       "      <th>localization_neck</th>\n",
       "      <th>localization_scalp</th>\n",
       "      <th>localization_trunk</th>\n",
       "      <th>localization_unknown</th>\n",
       "      <th>localization_upper extremity</th>\n",
       "    </tr>\n",
       "  </thead>\n",
       "  <tbody>\n",
       "    <tr>\n",
       "      <th>0</th>\n",
       "      <td>0.556691</td>\n",
       "      <td>0.487888</td>\n",
       "      <td>0.421749</td>\n",
       "      <td>0.420977</td>\n",
       "      <td>0.337302</td>\n",
       "      <td>0.360568</td>\n",
       "      <td>0.471070</td>\n",
       "      <td>0.468353</td>\n",
       "      <td>0.397630</td>\n",
       "      <td>0.331268</td>\n",
       "      <td>...</td>\n",
       "      <td>-0.28143</td>\n",
       "      <td>-0.18639</td>\n",
       "      <td>-0.071719</td>\n",
       "      <td>-0.093882</td>\n",
       "      <td>-0.507906</td>\n",
       "      <td>-0.131406</td>\n",
       "      <td>-0.115791</td>\n",
       "      <td>-0.404585</td>\n",
       "      <td>-0.155433</td>\n",
       "      <td>-0.356179</td>\n",
       "    </tr>\n",
       "    <tr>\n",
       "      <th>1</th>\n",
       "      <td>-0.456823</td>\n",
       "      <td>-0.728590</td>\n",
       "      <td>-0.993835</td>\n",
       "      <td>-0.968050</td>\n",
       "      <td>-0.981311</td>\n",
       "      <td>-1.026808</td>\n",
       "      <td>-0.646279</td>\n",
       "      <td>-0.574382</td>\n",
       "      <td>-0.718428</td>\n",
       "      <td>-1.058103</td>\n",
       "      <td>...</td>\n",
       "      <td>-0.28143</td>\n",
       "      <td>-0.18639</td>\n",
       "      <td>-0.071719</td>\n",
       "      <td>-0.093882</td>\n",
       "      <td>-0.507906</td>\n",
       "      <td>-0.131406</td>\n",
       "      <td>-0.115791</td>\n",
       "      <td>-0.404585</td>\n",
       "      <td>-0.155433</td>\n",
       "      <td>2.807576</td>\n",
       "    </tr>\n",
       "    <tr>\n",
       "      <th>2</th>\n",
       "      <td>-2.918216</td>\n",
       "      <td>-2.541831</td>\n",
       "      <td>-1.868923</td>\n",
       "      <td>-1.421609</td>\n",
       "      <td>-1.358058</td>\n",
       "      <td>-1.595987</td>\n",
       "      <td>-1.763629</td>\n",
       "      <td>-1.496801</td>\n",
       "      <td>-1.131783</td>\n",
       "      <td>-0.973899</td>\n",
       "      <td>...</td>\n",
       "      <td>-0.28143</td>\n",
       "      <td>-0.18639</td>\n",
       "      <td>-0.071719</td>\n",
       "      <td>-0.093882</td>\n",
       "      <td>-0.507906</td>\n",
       "      <td>-0.131406</td>\n",
       "      <td>-0.115791</td>\n",
       "      <td>-0.404585</td>\n",
       "      <td>6.433625</td>\n",
       "      <td>-0.356179</td>\n",
       "    </tr>\n",
       "    <tr>\n",
       "      <th>3</th>\n",
       "      <td>-0.146564</td>\n",
       "      <td>-0.017065</td>\n",
       "      <td>0.035680</td>\n",
       "      <td>0.024112</td>\n",
       "      <td>0.117534</td>\n",
       "      <td>-0.030743</td>\n",
       "      <td>-0.106869</td>\n",
       "      <td>-0.173330</td>\n",
       "      <td>-0.222403</td>\n",
       "      <td>-0.216060</td>\n",
       "      <td>...</td>\n",
       "      <td>-0.28143</td>\n",
       "      <td>-0.18639</td>\n",
       "      <td>-0.071719</td>\n",
       "      <td>-0.093882</td>\n",
       "      <td>-0.507906</td>\n",
       "      <td>-0.131406</td>\n",
       "      <td>-0.115791</td>\n",
       "      <td>-0.404585</td>\n",
       "      <td>-0.155433</td>\n",
       "      <td>-0.356179</td>\n",
       "    </tr>\n",
       "    <tr>\n",
       "      <th>4</th>\n",
       "      <td>-0.477507</td>\n",
       "      <td>-0.544971</td>\n",
       "      <td>-0.633505</td>\n",
       "      <td>-0.627880</td>\n",
       "      <td>-0.510378</td>\n",
       "      <td>-0.599923</td>\n",
       "      <td>-0.761867</td>\n",
       "      <td>-0.895224</td>\n",
       "      <td>-0.966441</td>\n",
       "      <td>-1.310716</td>\n",
       "      <td>...</td>\n",
       "      <td>-0.28143</td>\n",
       "      <td>-0.18639</td>\n",
       "      <td>-0.071719</td>\n",
       "      <td>-0.093882</td>\n",
       "      <td>1.968869</td>\n",
       "      <td>-0.131406</td>\n",
       "      <td>-0.115791</td>\n",
       "      <td>-0.404585</td>\n",
       "      <td>-0.155433</td>\n",
       "      <td>-0.356179</td>\n",
       "    </tr>\n",
       "  </tbody>\n",
       "</table>\n",
       "<p>5 rows × 799 columns</p>\n",
       "</div>"
      ]
     },
     "execution_count": 9,
     "metadata": {},
     "output_type": "execute_result"
    }
   ],
   "execution_count": 9
  },
  {
   "metadata": {},
   "cell_type": "markdown",
   "source": "### Modèle de régression logistique sur 28L",
   "id": "28c5a14914f11804"
  },
  {
   "metadata": {
    "ExecuteTime": {
     "end_time": "2024-12-28T12:32:49.005361Z",
     "start_time": "2024-12-28T12:32:46.049696Z"
    }
   },
   "cell_type": "code",
   "source": [
    "\n",
    "# Entraînement\n",
    "logreg = LogisticRegression(max_iter=10000)\n",
    "logreg.fit(X_train_scaled, y_train)\n",
    "\n",
    "# Prédictions\n",
    "y_pred_logreg = logreg.predict(X_test_scaled)\n",
    "y_pred_proba_logreg = logreg.predict_proba(X_test_scaled)[:, 1]\n",
    "\n",
    "# Calcul des métriques\n",
    "accuracy_logreg = accuracy_score(y_test, y_pred_logreg)\n",
    "roc_auc_logreg = roc_auc_score(y_test, y_pred_proba_logreg)\n",
    "\n",
    "print(f\"Exactitude (Accuracy) : {accuracy_logreg:.2f}\")\n",
    "print(f\"Score ROC-AUC : {roc_auc_logreg:.2f}\")\n",
    "\n",
    "# Matrice de confusion\n",
    "cm = confusion_matrix(y_test, y_pred_logreg)\n",
    "plt.figure(figsize=(6, 4))\n",
    "sns.heatmap(cm, annot=True, fmt='d', cmap='Blues', xticklabels=['Non BCC', 'BCC'], yticklabels=['Non BCC', 'BCC'])\n",
    "plt.title(\"Matrice de confusion (Régression Logistique)\")\n",
    "plt.xlabel(\"Prédictions\")\n",
    "plt.ylabel(\"Réel\")\n",
    "# sauvegarde de l'image de la matrice de confusion dans le dossier reports/images/entrainement/28L avec creation du dossier si il n'existe pas\n",
    "# create the folder if it doesn't exist\n",
    "import os\n",
    "if not os.path.exists('reports/images/entrainement/28L'):\n",
    "    os.makedirs('reports/images/entrainement/28L')\n",
    "plt.savefig('reports/images/entrainement/28L/mat_conf_logreg_28L.png')\n",
    "plt.show()\n",
    "# sauvegarde du modele au format pkl dans le dossier models/28L\n",
    "filename = 'models/model_logreg_28L.pkl'\n",
    "pickle.dump(logreg, open(filename, 'wb'))\n",
    "\n",
    "\n"
   ],
   "id": "291f4c151413ed03",
   "outputs": [
    {
     "name": "stdout",
     "output_type": "stream",
     "text": [
      "Exactitude (Accuracy) : 0.94\n",
      "Score ROC-AUC : 0.84\n"
     ]
    },
    {
     "data": {
      "text/plain": [
       "<Figure size 600x400 with 2 Axes>"
      ],
      "image/png": "[encoded data removed]"
     },
     "metadata": {},
     "output_type": "display_data"
    }
   ],
   "execution_count": 10
  },
  {
   "metadata": {},
   "cell_type": "markdown",
   "source": "### On remarque que la regression logistique a une accuracy de 0.94 et un score roc-auc de 0.84 cependant on peut essayer d'autres algorithmes pour voir si on peut avoir de meilleurs resultats , car pour la regression logistique le nombre de faux negatifs est assez eleve , MAIS PLUS DE VRAIS POSITIFS",
   "id": "b519cd1f6fcc4552"
  },
  {
   "metadata": {},
   "cell_type": "markdown",
   "source": "### Modèle Random Forest sur 28L",
   "id": "cf65ee93f455fc2f"
  },
  {
   "metadata": {
    "ExecuteTime": {
     "end_time": "2024-12-28T12:34:41.339315Z",
     "start_time": "2024-12-28T12:34:30.818314Z"
    }
   },
   "cell_type": "code",
   "source": [
    "from sklearn.ensemble import RandomForestClassifier\n",
    "\n",
    "# Entraînement\n",
    "rf = RandomForestClassifier(n_estimators=100, random_state=0)\n",
    "rf.fit(X_train_scaled, y_train)\n",
    "\n",
    "# Prédictions\n",
    "y_pred_rf = rf.predict(X_test_scaled)\n",
    "y_pred_proba_rf = rf.predict_proba(X_test_scaled)[:, 1]\n",
    "\n",
    "# Calcul des métriques\n",
    "accuracy_rf = accuracy_score(y_test, y_pred_rf)\n",
    "roc_auc_rf = roc_auc_score(y_test, y_pred_proba_rf)\n",
    "\n",
    "print(f\"Exactitude (Accuracy) : {accuracy_rf:.2f}\")\n",
    "print(f\"Score ROC-AUC : {roc_auc_rf:.2f}\")\n",
    "\n",
    "# Matrice de confusion\n",
    "cm_rf = confusion_matrix(y_test, y_pred_rf)\n",
    "plt.figure(figsize=(6, 4))\n",
    "sns.heatmap(cm_rf, annot=True, fmt='d', cmap='Greens', xticklabels=['Non BCC', 'BCC'], yticklabels=['Non BCC', 'BCC'])\n",
    "\n",
    "plt.title(\"Matrice de confusion (Random Forest)\")\n",
    "plt.xlabel(\"Prédictions\")\n",
    "plt.ylabel(\"Réel\")\n",
    "# sauvegarde de l'image de la matrice de confusion dans le dossier reports/images/entrainement/28L avec creation du dossier si il n'existe pas\n",
    "# create the folder if it doesn't exist\n",
    "import os\n",
    "if not os.path.exists('reports/images/entrainement/28L'):\n",
    "    os.makedirs('reports/images/entrainement/28L')\n",
    "plt.savefig('reports/images/entrainement/28L/mat_conf_rf_28L.png')\n",
    "plt.show()\n",
    "# sauvegarde du modele au format pkl dans le dossier models/28L\n",
    "filename = 'models/model_rf_28L.pkl'\n",
    "pickle.dump(rf, open(filename, 'wb'))\n",
    "\n",
    "\n"
   ],
   "id": "c374a0d65c5287b4",
   "outputs": [
    {
     "name": "stdout",
     "output_type": "stream",
     "text": [
      "Exactitude (Accuracy) : 0.95\n",
      "Score ROC-AUC : 0.89\n"
     ]
    },
    {
     "data": {
      "text/plain": [
       "<Figure size 600x400 with 2 Axes>"
      ],
      "image/png": "[encoded data removed]"
     },
     "metadata": {},
     "output_type": "display_data"
    }
   ],
   "execution_count": 12
  },
  {
   "metadata": {},
   "cell_type": "markdown",
   "source": "### Le modele Random Forest a ENORMEMENT DE FAUX NEGATIFS , mais il a moins de faux positifs que la regression logistique",
   "id": "5b84a62d3f82fba1"
  },
  {
   "metadata": {},
   "cell_type": "markdown",
   "source": "### Arbres de Décision sur 28L",
   "id": "156a756c5f2c7c28"
  },
  {
   "metadata": {
    "ExecuteTime": {
     "end_time": "2024-12-28T12:37:05.291891Z",
     "start_time": "2024-12-28T12:37:00.306097Z"
    }
   },
   "cell_type": "code",
   "source": [
    "# Entraînement\n",
    "dt = DecisionTreeClassifier(random_state=42)\n",
    "dt.fit(X_train_scaled, y_train)\n",
    "\n",
    "# Prédictions\n",
    "y_pred_dt = dt.predict(X_test_scaled)\n",
    "y_pred_proba_dt = dt.predict_proba(X_test_scaled)[:, 1]\n",
    "\n",
    "# Calcul des métriques\n",
    "accuracy_dt = accuracy_score(y_test, y_pred_dt)\n",
    "roc_auc_dt = roc_auc_score(y_test, y_pred_proba_dt)\n",
    "\n",
    "print(f\"Exactitude (Accuracy) : {accuracy_dt:.2f}\")\n",
    "print(f\"Score ROC-AUC : {roc_auc_dt:.2f}\")\n",
    "\n",
    "# Matrice de confusion\n",
    "cm_dt = confusion_matrix(y_test, y_pred_dt)\n",
    "plt.figure(figsize=(6, 4))\n",
    "sns.heatmap(cm_dt, annot=True, fmt='d', cmap='Greens', xticklabels=['Non BCC', 'BCC'], yticklabels=['Non BCC', 'BCC'])\n",
    "\n",
    "plt.title(\"Matrice de confusion (ARBRE DE DESCISION)\")\n",
    "plt.xlabel(\"Prédictions\")\n",
    "plt.ylabel(\"Réel\")\n",
    "# sauvegarde de l'image de la matrice de confusion dans le dossier reports/images/entrainement/28L avec creation du dossier si il n'existe pas\n",
    "# create the folder if it doesn't exist\n",
    "import os\n",
    "if not os.path.exists('reports/images/entrainement/28L'):\n",
    "    os.makedirs('reports/images/entrainement/28L')\n",
    "plt.savefig('reports/images/entrainement/28L/mat_conf_dt_28L.png')\n",
    "plt.show()\n",
    "# sauvegarde du modele au format pkl dans le dossier models/28L\n",
    "filename = 'models/model_dt_28L.pkl'\n",
    "pickle.dump(rf, open(filename, 'wb'))\n",
    "\n",
    "\n"
   ],
   "id": "43df0acd22c90055",
   "outputs": [
    {
     "name": "stdout",
     "output_type": "stream",
     "text": [
      "Exactitude (Accuracy) : 0.92\n",
      "Score ROC-AUC : 0.63\n"
     ]
    },
    {
     "data": {
      "text/plain": [
       "<Figure size 600x400 with 2 Axes>"
      ],
      "image/png": "[encoded data removed]"
     },
     "metadata": {},
     "output_type": "display_data"
    }
   ],
   "execution_count": 13
  },
  {
   "metadata": {},
   "cell_type": "markdown",
   "source": "",
   "id": "1906e0698526c212"
  },
  {
   "metadata": {},
   "cell_type": "markdown",
   "source": "### Le modele d'arbre de decision identifie plus de cas BCC que les autres et mais moins de faux negatifs , il sera sans doute meilleur avec un jeu de donnees plus detaille ",
   "id": "b6cce20973ee6cfe"
  },
  {
   "metadata": {},
   "cell_type": "markdown",
   "source": [
    "# RECAPITULATIF DES MODELES SUR LE DATASET 28L : IMAGES 8x8 EN RGB on constate une legere amelioration du modele\n",
    "\n",
    "----\n",
    "# ON CONSTATE UN MEILLEUR RESULTAT QU'AVEC UN ENTRAINEMENT SUR 8L MAIS PAS FORCEMENT MEILLEUR QUE CELUI DE RGB , LA COULUER SEMBLE AVOIR UN IMPACT SUR LA PERFORMANCE DU MODELE "
   ],
   "id": "ae536ec54e825f12"
  },
  {
   "metadata": {},
   "cell_type": "markdown",
   "source": "## ENTRAINEMENT SUIVANT AVEC LE DATASET 28RGB : IMAGES 28x28 EN RGB\n",
   "id": "a0ae1bc3dc952b70"
  },
  {
   "metadata": {
    "ExecuteTime": {
     "end_time": "2024-12-28T12:23:10.490026Z",
     "start_time": "2024-12-28T12:23:10.473867Z"
    }
   },
   "cell_type": "code",
   "source": "",
   "id": "bdcb03acd2ed565c",
   "outputs": [],
   "execution_count": null
  }
 ],
 "metadata": {
  "kernelspec": {
   "display_name": "Python 3",
   "language": "python",
   "name": "python3"
  },
  "language_info": {
   "codemirror_mode": {
    "name": "ipython",
    "version": 2
   },
   "file_extension": ".py",
   "mimetype": "text/x-python",
   "name": "python",
   "nbconvert_exporter": "python",
   "pygments_lexer": "ipython2",
   "version": "2.7.6"
  }
 },
 "nbformat": 4,
 "nbformat_minor": 5
}
