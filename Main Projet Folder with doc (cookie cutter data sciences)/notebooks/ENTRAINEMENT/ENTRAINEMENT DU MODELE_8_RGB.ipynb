{
 "cells": [
  {
   "metadata": {},
   "cell_type": "markdown",
   "source": "# ENTRAINEMENT DU MODELE SUR LE DATASET 8RGB : IMAGES 8x8 EN RGB",
   "id": "a95c4a26894c9c0"
  },
  {
   "metadata": {
    "ExecuteTime": {
     "end_time": "2024-12-28T12:23:00.971672Z",
     "start_time": "2024-12-28T12:23:00.965381Z"
    }
   },
   "cell_type": "code",
   "source": "#cd \"C:\\Users\\donfa\\OneDrive\\Desktop\\PROJET MACHINE LEARNING\\skin-cancer-prediction-bcc\"",
   "id": "8364ff2ac1baff90",
   "outputs": [],
   "execution_count": 39
  },
  {
   "metadata": {
    "ExecuteTime": {
     "end_time": "2024-12-28T12:23:00.997966Z",
     "start_time": "2024-12-28T12:23:00.981235Z"
    }
   },
   "cell_type": "code",
   "source": [
    "import pandas as pd\n",
    "from rich.jupyter import display\n",
    "from sklearn.linear_model import LogisticRegression\n",
    "from sklearn.metrics import accuracy_score, confusion_matrix, roc_auc_score\n",
    "import numpy as np\n",
    "from sklearn.model_selection import train_test_split\n",
    "from sklearn.preprocessing import StandardScaler,MinMaxScaler\n",
    "from sklearn.ensemble import RandomForestClassifier , GradientBoostingClassifier\n",
    "from sklearn.metrics import classification_report, confusion_matrix\n",
    "import pickle\n",
    "from sklearn.linear_model import LogisticRegression\n",
    "from sklearn.ensemble import RandomForestClassifier\n",
    "from sklearn.svm import SVC\n",
    "from sklearn.neighbors import KNeighborsClassifier\n",
    "from sklearn.tree import DecisionTreeClassifier\n",
    "from sklearn.metrics import classification_report, accuracy_score, confusion_matrix, roc_auc_score\n",
    "from sklearn.model_selection import train_test_split, cross_val_score\n",
    "import matplotlib.pyplot as plt\n",
    "import seaborn as sns\n",
    "\n"
   ],
   "id": "e971da29cdead3ec",
   "outputs": [],
   "execution_count": 40
  },
  {
   "metadata": {},
   "cell_type": "markdown",
   "source": "## ENTRAINEMENT AVEC LE DATASET 8RGB : IMAGES 8x8 EN RGB",
   "id": "eab5675734e2dee"
  },
  {
   "metadata": {
    "ExecuteTime": {
     "end_time": "2024-12-28T12:23:01.303635Z",
     "start_time": "2024-12-28T12:23:01.051884Z"
    }
   },
   "cell_type": "code",
   "source": [
    "# Charger le dataset\n",
    "dataset_path = \"data/processed/Meta_Data_Processed_8RGB.csv\"\n",
    "df = pd.read_csv(dataset_path)\n",
    "\n",
    "\n",
    "print(f\"Dimensions du dataset : {df.shape}\")\n",
    "df.head()"
   ],
   "id": "caff4f3c8a78613",
   "outputs": [
    {
     "name": "stdout",
     "output_type": "stream",
     "text": [
      "Dimensions du dataset : (10015, 209)\n"
     ]
    },
    {
     "data": {
      "text/plain": [
       "   pixel0000  pixel0001  pixel0002  pixel0003  pixel0004  pixel0005  \\\n",
       "0        199        156        188        210        165        198   \n",
       "1        115         87        115        180        133        158   \n",
       "2        203        146        164        209        144        153   \n",
       "3        135         96        110        198        141        156   \n",
       "4        204        156        187        232        185        216   \n",
       "\n",
       "   pixel0006  pixel0007  pixel0008  pixel0009  ...  localization_face  \\\n",
       "0        216        176        203        215  ...                  0   \n",
       "1        200        153        187        215  ...                  0   \n",
       "2        217        160        181        215  ...                  0   \n",
       "3        208        148        158        210  ...                  0   \n",
       "4        236        196        220        217  ...                  0   \n",
       "\n",
       "   localization_foot  localization_genital  localization_hand  \\\n",
       "0                  0                     0                  0   \n",
       "1                  0                     0                  0   \n",
       "2                  0                     0                  0   \n",
       "3                  0                     0                  0   \n",
       "4                  0                     0                  0   \n",
       "\n",
       "   localization_lower extremity  localization_neck  localization_scalp  \\\n",
       "0                             0                  0                   1   \n",
       "1                             0                  0                   1   \n",
       "2                             0                  0                   1   \n",
       "3                             0                  0                   1   \n",
       "4                             0                  0                   0   \n",
       "\n",
       "   localization_trunk  localization_unknown  localization_upper extremity  \n",
       "0                   0                     0                             0  \n",
       "1                   0                     0                             0  \n",
       "2                   0                     0                             0  \n",
       "3                   0                     0                             0  \n",
       "4                   0                     0                             0  \n",
       "\n",
       "[5 rows x 209 columns]"
      ],
      "text/html": [
       "<div>\n",
       "<style scoped>\n",
       "    .dataframe tbody tr th:only-of-type {\n",
       "        vertical-align: middle;\n",
       "    }\n",
       "\n",
       "    .dataframe tbody tr th {\n",
       "        vertical-align: top;\n",
       "    }\n",
       "\n",
       "    .dataframe thead th {\n",
       "        text-align: right;\n",
       "    }\n",
       "</style>\n",
       "<table border=\"1\" class=\"dataframe\">\n",
       "  <thead>\n",
       "    <tr style=\"text-align: right;\">\n",
       "      <th></th>\n",
       "      <th>pixel0000</th>\n",
       "      <th>pixel0001</th>\n",
       "      <th>pixel0002</th>\n",
       "      <th>pixel0003</th>\n",
       "      <th>pixel0004</th>\n",
       "      <th>pixel0005</th>\n",
       "      <th>pixel0006</th>\n",
       "      <th>pixel0007</th>\n",
       "      <th>pixel0008</th>\n",
       "      <th>pixel0009</th>\n",
       "      <th>...</th>\n",
       "      <th>localization_face</th>\n",
       "      <th>localization_foot</th>\n",
       "      <th>localization_genital</th>\n",
       "      <th>localization_hand</th>\n",
       "      <th>localization_lower extremity</th>\n",
       "      <th>localization_neck</th>\n",
       "      <th>localization_scalp</th>\n",
       "      <th>localization_trunk</th>\n",
       "      <th>localization_unknown</th>\n",
       "      <th>localization_upper extremity</th>\n",
       "    </tr>\n",
       "  </thead>\n",
       "  <tbody>\n",
       "    <tr>\n",
       "      <th>0</th>\n",
       "      <td>199</td>\n",
       "      <td>156</td>\n",
       "      <td>188</td>\n",
       "      <td>210</td>\n",
       "      <td>165</td>\n",
       "      <td>198</td>\n",
       "      <td>216</td>\n",
       "      <td>176</td>\n",
       "      <td>203</td>\n",
       "      <td>215</td>\n",
       "      <td>...</td>\n",
       "      <td>0</td>\n",
       "      <td>0</td>\n",
       "      <td>0</td>\n",
       "      <td>0</td>\n",
       "      <td>0</td>\n",
       "      <td>0</td>\n",
       "      <td>1</td>\n",
       "      <td>0</td>\n",
       "      <td>0</td>\n",
       "      <td>0</td>\n",
       "    </tr>\n",
       "    <tr>\n",
       "      <th>1</th>\n",
       "      <td>115</td>\n",
       "      <td>87</td>\n",
       "      <td>115</td>\n",
       "      <td>180</td>\n",
       "      <td>133</td>\n",
       "      <td>158</td>\n",
       "      <td>200</td>\n",
       "      <td>153</td>\n",
       "      <td>187</td>\n",
       "      <td>215</td>\n",
       "      <td>...</td>\n",
       "      <td>0</td>\n",
       "      <td>0</td>\n",
       "      <td>0</td>\n",
       "      <td>0</td>\n",
       "      <td>0</td>\n",
       "      <td>0</td>\n",
       "      <td>1</td>\n",
       "      <td>0</td>\n",
       "      <td>0</td>\n",
       "      <td>0</td>\n",
       "    </tr>\n",
       "    <tr>\n",
       "      <th>2</th>\n",
       "      <td>203</td>\n",
       "      <td>146</td>\n",
       "      <td>164</td>\n",
       "      <td>209</td>\n",
       "      <td>144</td>\n",
       "      <td>153</td>\n",
       "      <td>217</td>\n",
       "      <td>160</td>\n",
       "      <td>181</td>\n",
       "      <td>215</td>\n",
       "      <td>...</td>\n",
       "      <td>0</td>\n",
       "      <td>0</td>\n",
       "      <td>0</td>\n",
       "      <td>0</td>\n",
       "      <td>0</td>\n",
       "      <td>0</td>\n",
       "      <td>1</td>\n",
       "      <td>0</td>\n",
       "      <td>0</td>\n",
       "      <td>0</td>\n",
       "    </tr>\n",
       "    <tr>\n",
       "      <th>3</th>\n",
       "      <td>135</td>\n",
       "      <td>96</td>\n",
       "      <td>110</td>\n",
       "      <td>198</td>\n",
       "      <td>141</td>\n",
       "      <td>156</td>\n",
       "      <td>208</td>\n",
       "      <td>148</td>\n",
       "      <td>158</td>\n",
       "      <td>210</td>\n",
       "      <td>...</td>\n",
       "      <td>0</td>\n",
       "      <td>0</td>\n",
       "      <td>0</td>\n",
       "      <td>0</td>\n",
       "      <td>0</td>\n",
       "      <td>0</td>\n",
       "      <td>1</td>\n",
       "      <td>0</td>\n",
       "      <td>0</td>\n",
       "      <td>0</td>\n",
       "    </tr>\n",
       "    <tr>\n",
       "      <th>4</th>\n",
       "      <td>204</td>\n",
       "      <td>156</td>\n",
       "      <td>187</td>\n",
       "      <td>232</td>\n",
       "      <td>185</td>\n",
       "      <td>216</td>\n",
       "      <td>236</td>\n",
       "      <td>196</td>\n",
       "      <td>220</td>\n",
       "      <td>217</td>\n",
       "      <td>...</td>\n",
       "      <td>0</td>\n",
       "      <td>0</td>\n",
       "      <td>0</td>\n",
       "      <td>0</td>\n",
       "      <td>0</td>\n",
       "      <td>0</td>\n",
       "      <td>0</td>\n",
       "      <td>0</td>\n",
       "      <td>0</td>\n",
       "      <td>0</td>\n",
       "    </tr>\n",
       "  </tbody>\n",
       "</table>\n",
       "<p>5 rows × 209 columns</p>\n",
       "</div>"
      ]
     },
     "execution_count": 41,
     "metadata": {},
     "output_type": "execute_result"
    }
   ],
   "execution_count": 41
  },
  {
   "metadata": {},
   "cell_type": "markdown",
   "source": "#### Le dataset contient 209 colonnes de pixels (8x8) et 7 colonnes de métadonnées. , nous allons eliminer la colone label , car elle est redondante avec la colonne is_bcc",
   "id": "60f9dfe8c34e3fdc"
  },
  {
   "metadata": {
    "ExecuteTime": {
     "end_time": "2024-12-28T12:23:01.491337Z",
     "start_time": "2024-12-28T12:23:01.475777Z"
    }
   },
   "cell_type": "code",
   "source": [
    "# Supprimer la colonne 'label'\n",
    "df.drop('label', axis=1, inplace=True)"
   ],
   "id": "eb7c3f1485e84d55",
   "outputs": [],
   "execution_count": 42
  },
  {
   "metadata": {},
   "cell_type": "markdown",
   "source": "#### Leger resumé des données",
   "id": "c727a3b4bea4b790"
  },
  {
   "metadata": {
    "ExecuteTime": {
     "end_time": "2024-12-28T12:23:01.615545Z",
     "start_time": "2024-12-28T12:23:01.591904Z"
    }
   },
   "cell_type": "code",
   "source": [
    "# Informations sur le dataset\n",
    "print(\"\\nRésumé des données :\")\n",
    "(df.info())\n"
   ],
   "id": "1783772d1ed9c69c",
   "outputs": [
    {
     "name": "stdout",
     "output_type": "stream",
     "text": [
      "\n",
      "Résumé des données :\n",
      "<class 'pandas.core.frame.DataFrame'>\n",
      "RangeIndex: 10015 entries, 0 to 10014\n",
      "Columns: 208 entries, pixel0000 to localization_upper extremity\n",
      "dtypes: float64(1), int64(207)\n",
      "memory usage: 15.9 MB\n"
     ]
    }
   ],
   "execution_count": 43
  },
  {
   "metadata": {},
   "cell_type": "markdown",
   "source": "#### Gestion des evenuelles valeurs manquantes",
   "id": "b406ee185f57b135"
  },
  {
   "metadata": {
    "ExecuteTime": {
     "end_time": "2024-12-28T12:23:02.153399Z",
     "start_time": "2024-12-28T12:23:02.037427Z"
    }
   },
   "cell_type": "code",
   "source": [
    "# Vérification des valeurs manquantes\n",
    "missing_values = df.isnull().sum()\n",
    "print(\"\\nValeurs manquantes par colonne :\")\n",
    "print(missing_values[missing_values > 0])\n",
    "\n",
    "# Gestion des valeurs manquantes (imputation par la moyenne pour les colonnes numériques)\n",
    "df_cleaned = df.fillna(df.mean(numeric_only=True))\n",
    "\n",
    "# Confirmation des modifications\n",
    "print(\"\\nDataset après nettoyage :\")\n",
    "print(df_cleaned.head())\n",
    "print(f\"Dimensions après nettoyage : {df_cleaned.shape}\")"
   ],
   "id": "bd893292b8421fed",
   "outputs": [
    {
     "name": "stdout",
     "output_type": "stream",
     "text": [
      "\n",
      "Valeurs manquantes par colonne :\n",
      "age    57\n",
      "dtype: int64\n",
      "\n",
      "Dataset après nettoyage :\n",
      "   pixel0000  pixel0001  pixel0002  pixel0003  pixel0004  pixel0005  \\\n",
      "0        199        156        188        210        165        198   \n",
      "1        115         87        115        180        133        158   \n",
      "2        203        146        164        209        144        153   \n",
      "3        135         96        110        198        141        156   \n",
      "4        204        156        187        232        185        216   \n",
      "\n",
      "   pixel0006  pixel0007  pixel0008  pixel0009  ...  localization_face  \\\n",
      "0        216        176        203        215  ...                  0   \n",
      "1        200        153        187        215  ...                  0   \n",
      "2        217        160        181        215  ...                  0   \n",
      "3        208        148        158        210  ...                  0   \n",
      "4        236        196        220        217  ...                  0   \n",
      "\n",
      "   localization_foot  localization_genital  localization_hand  \\\n",
      "0                  0                     0                  0   \n",
      "1                  0                     0                  0   \n",
      "2                  0                     0                  0   \n",
      "3                  0                     0                  0   \n",
      "4                  0                     0                  0   \n",
      "\n",
      "   localization_lower extremity  localization_neck  localization_scalp  \\\n",
      "0                             0                  0                   1   \n",
      "1                             0                  0                   1   \n",
      "2                             0                  0                   1   \n",
      "3                             0                  0                   1   \n",
      "4                             0                  0                   0   \n",
      "\n",
      "   localization_trunk  localization_unknown  localization_upper extremity  \n",
      "0                   0                     0                             0  \n",
      "1                   0                     0                             0  \n",
      "2                   0                     0                             0  \n",
      "3                   0                     0                             0  \n",
      "4                   0                     0                             0  \n",
      "\n",
      "[5 rows x 208 columns]\n",
      "Dimensions après nettoyage : (10015, 208)\n"
     ]
    }
   ],
   "execution_count": 44
  },
  {
   "metadata": {},
   "cell_type": "markdown",
   "source": "### Division des Données en Ensembles d’Entraînement et de Test",
   "id": "970ffa64f896eba"
  },
  {
   "metadata": {
    "ExecuteTime": {
     "end_time": "2024-12-28T12:23:02.293114Z",
     "start_time": "2024-12-28T12:23:02.206181Z"
    }
   },
   "cell_type": "code",
   "source": [
    "X = df_cleaned.drop(columns=['is_bcc'], errors='ignore')  # 'is_bcc' est la cible\n",
    "y = df_cleaned['is_bcc']\n",
    "\n",
    "X_train, X_test, y_train, y_test = train_test_split(X, y, test_size=0.2, random_state=42)\n",
    "\n",
    "print(f\"\\nDimensions des ensembles d'entraînement : {X_train.shape}, {y_train.shape}\")\n",
    "print(f\"Dimensions des ensembles de test : {X_test.shape}, {y_test.shape}\")\n"
   ],
   "id": "841f35b467a4edac",
   "outputs": [
    {
     "name": "stdout",
     "output_type": "stream",
     "text": [
      "\n",
      "Dimensions des ensembles d'entraînement : (8012, 207), (8012,)\n",
      "Dimensions des ensembles de test : (2003, 207), (2003,)\n"
     ]
    }
   ],
   "execution_count": 45
  },
  {
   "metadata": {},
   "cell_type": "markdown",
   "source": [
    "### Standardisation des Caractéristiques\n",
    "Pour de meilleurs résultats avec certains modèles, il est important de standardiser les données."
   ],
   "id": "f775a7bc289fdc9d"
  },
  {
   "metadata": {
    "ExecuteTime": {
     "end_time": "2024-12-28T12:23:02.490759Z",
     "start_time": "2024-12-28T12:23:02.347295Z"
    }
   },
   "cell_type": "code",
   "source": [
    "# Standardisation des données\n",
    "scaler = StandardScaler()\n",
    "X_train_scaled = scaler.fit_transform(X_train)\n",
    "X_test_scaled = scaler.transform(X_test)\n",
    "\n",
    "print(\"\\nAperçu des données standardisées (entraînement) :\")\n",
    "pd.DataFrame(X_train_scaled, columns=X.columns).head()\n"
   ],
   "id": "38630e8d1344bea0",
   "outputs": [
    {
     "name": "stdout",
     "output_type": "stream",
     "text": [
      "\n",
      "Aperçu des données standardisées (entraînement) :\n"
     ]
    },
    {
     "data": {
      "text/plain": [
       "   pixel0000  pixel0001  pixel0002  pixel0003  pixel0004  pixel0005  \\\n",
       "0   0.783613   0.114834   0.369125   0.888186  -0.074845   0.175703   \n",
       "1  -0.668799  -1.129484  -0.243068  -1.072210  -1.038928   0.110362   \n",
       "2  -1.971697  -1.903726  -1.671519  -1.439784  -1.038928  -0.869748   \n",
       "3  -0.604722   0.419000   0.267093  -0.949685   0.425050   0.306384   \n",
       "4  -1.074620  -0.299939  -0.064512  -1.470416  -0.110552   0.045022   \n",
       "\n",
       "   pixel0006  pixel0007  pixel0008  pixel0009  ...  localization_face  \\\n",
       "0   1.053592   0.050119   0.294038   1.197950  ...           -0.28143   \n",
       "1  -0.960353  -0.356877   0.395093  -0.758139  ...           -0.28143   \n",
       "2  -1.355950  -0.652874  -0.480718  -1.053398  ...           -0.28143   \n",
       "3  -1.212096   0.309117   0.125613  -1.164120  ...           -0.28143   \n",
       "4  -1.751546  -0.245878  -0.244923  -1.680822  ...           -0.28143   \n",
       "\n",
       "   localization_foot  localization_genital  localization_hand  \\\n",
       "0           -0.18639             -0.071719          -0.093882   \n",
       "1           -0.18639             -0.071719          -0.093882   \n",
       "2           -0.18639             -0.071719          -0.093882   \n",
       "3           -0.18639             -0.071719          -0.093882   \n",
       "4           -0.18639             -0.071719          -0.093882   \n",
       "\n",
       "   localization_lower extremity  localization_neck  localization_scalp  \\\n",
       "0                     -0.507906          -0.131406           -0.115791   \n",
       "1                     -0.507906          -0.131406           -0.115791   \n",
       "2                     -0.507906          -0.131406           -0.115791   \n",
       "3                     -0.507906          -0.131406           -0.115791   \n",
       "4                      1.968869          -0.131406           -0.115791   \n",
       "\n",
       "   localization_trunk  localization_unknown  localization_upper extremity  \n",
       "0           -0.404585             -0.155433                     -0.356179  \n",
       "1           -0.404585             -0.155433                      2.807576  \n",
       "2           -0.404585              6.433625                     -0.356179  \n",
       "3           -0.404585             -0.155433                     -0.356179  \n",
       "4           -0.404585             -0.155433                     -0.356179  \n",
       "\n",
       "[5 rows x 207 columns]"
      ],
      "text/html": [
       "<div>\n",
       "<style scoped>\n",
       "    .dataframe tbody tr th:only-of-type {\n",
       "        vertical-align: middle;\n",
       "    }\n",
       "\n",
       "    .dataframe tbody tr th {\n",
       "        vertical-align: top;\n",
       "    }\n",
       "\n",
       "    .dataframe thead th {\n",
       "        text-align: right;\n",
       "    }\n",
       "</style>\n",
       "<table border=\"1\" class=\"dataframe\">\n",
       "  <thead>\n",
       "    <tr style=\"text-align: right;\">\n",
       "      <th></th>\n",
       "      <th>pixel0000</th>\n",
       "      <th>pixel0001</th>\n",
       "      <th>pixel0002</th>\n",
       "      <th>pixel0003</th>\n",
       "      <th>pixel0004</th>\n",
       "      <th>pixel0005</th>\n",
       "      <th>pixel0006</th>\n",
       "      <th>pixel0007</th>\n",
       "      <th>pixel0008</th>\n",
       "      <th>pixel0009</th>\n",
       "      <th>...</th>\n",
       "      <th>localization_face</th>\n",
       "      <th>localization_foot</th>\n",
       "      <th>localization_genital</th>\n",
       "      <th>localization_hand</th>\n",
       "      <th>localization_lower extremity</th>\n",
       "      <th>localization_neck</th>\n",
       "      <th>localization_scalp</th>\n",
       "      <th>localization_trunk</th>\n",
       "      <th>localization_unknown</th>\n",
       "      <th>localization_upper extremity</th>\n",
       "    </tr>\n",
       "  </thead>\n",
       "  <tbody>\n",
       "    <tr>\n",
       "      <th>0</th>\n",
       "      <td>0.783613</td>\n",
       "      <td>0.114834</td>\n",
       "      <td>0.369125</td>\n",
       "      <td>0.888186</td>\n",
       "      <td>-0.074845</td>\n",
       "      <td>0.175703</td>\n",
       "      <td>1.053592</td>\n",
       "      <td>0.050119</td>\n",
       "      <td>0.294038</td>\n",
       "      <td>1.197950</td>\n",
       "      <td>...</td>\n",
       "      <td>-0.28143</td>\n",
       "      <td>-0.18639</td>\n",
       "      <td>-0.071719</td>\n",
       "      <td>-0.093882</td>\n",
       "      <td>-0.507906</td>\n",
       "      <td>-0.131406</td>\n",
       "      <td>-0.115791</td>\n",
       "      <td>-0.404585</td>\n",
       "      <td>-0.155433</td>\n",
       "      <td>-0.356179</td>\n",
       "    </tr>\n",
       "    <tr>\n",
       "      <th>1</th>\n",
       "      <td>-0.668799</td>\n",
       "      <td>-1.129484</td>\n",
       "      <td>-0.243068</td>\n",
       "      <td>-1.072210</td>\n",
       "      <td>-1.038928</td>\n",
       "      <td>0.110362</td>\n",
       "      <td>-0.960353</td>\n",
       "      <td>-0.356877</td>\n",
       "      <td>0.395093</td>\n",
       "      <td>-0.758139</td>\n",
       "      <td>...</td>\n",
       "      <td>-0.28143</td>\n",
       "      <td>-0.18639</td>\n",
       "      <td>-0.071719</td>\n",
       "      <td>-0.093882</td>\n",
       "      <td>-0.507906</td>\n",
       "      <td>-0.131406</td>\n",
       "      <td>-0.115791</td>\n",
       "      <td>-0.404585</td>\n",
       "      <td>-0.155433</td>\n",
       "      <td>2.807576</td>\n",
       "    </tr>\n",
       "    <tr>\n",
       "      <th>2</th>\n",
       "      <td>-1.971697</td>\n",
       "      <td>-1.903726</td>\n",
       "      <td>-1.671519</td>\n",
       "      <td>-1.439784</td>\n",
       "      <td>-1.038928</td>\n",
       "      <td>-0.869748</td>\n",
       "      <td>-1.355950</td>\n",
       "      <td>-0.652874</td>\n",
       "      <td>-0.480718</td>\n",
       "      <td>-1.053398</td>\n",
       "      <td>...</td>\n",
       "      <td>-0.28143</td>\n",
       "      <td>-0.18639</td>\n",
       "      <td>-0.071719</td>\n",
       "      <td>-0.093882</td>\n",
       "      <td>-0.507906</td>\n",
       "      <td>-0.131406</td>\n",
       "      <td>-0.115791</td>\n",
       "      <td>-0.404585</td>\n",
       "      <td>6.433625</td>\n",
       "      <td>-0.356179</td>\n",
       "    </tr>\n",
       "    <tr>\n",
       "      <th>3</th>\n",
       "      <td>-0.604722</td>\n",
       "      <td>0.419000</td>\n",
       "      <td>0.267093</td>\n",
       "      <td>-0.949685</td>\n",
       "      <td>0.425050</td>\n",
       "      <td>0.306384</td>\n",
       "      <td>-1.212096</td>\n",
       "      <td>0.309117</td>\n",
       "      <td>0.125613</td>\n",
       "      <td>-1.164120</td>\n",
       "      <td>...</td>\n",
       "      <td>-0.28143</td>\n",
       "      <td>-0.18639</td>\n",
       "      <td>-0.071719</td>\n",
       "      <td>-0.093882</td>\n",
       "      <td>-0.507906</td>\n",
       "      <td>-0.131406</td>\n",
       "      <td>-0.115791</td>\n",
       "      <td>-0.404585</td>\n",
       "      <td>-0.155433</td>\n",
       "      <td>-0.356179</td>\n",
       "    </tr>\n",
       "    <tr>\n",
       "      <th>4</th>\n",
       "      <td>-1.074620</td>\n",
       "      <td>-0.299939</td>\n",
       "      <td>-0.064512</td>\n",
       "      <td>-1.470416</td>\n",
       "      <td>-0.110552</td>\n",
       "      <td>0.045022</td>\n",
       "      <td>-1.751546</td>\n",
       "      <td>-0.245878</td>\n",
       "      <td>-0.244923</td>\n",
       "      <td>-1.680822</td>\n",
       "      <td>...</td>\n",
       "      <td>-0.28143</td>\n",
       "      <td>-0.18639</td>\n",
       "      <td>-0.071719</td>\n",
       "      <td>-0.093882</td>\n",
       "      <td>1.968869</td>\n",
       "      <td>-0.131406</td>\n",
       "      <td>-0.115791</td>\n",
       "      <td>-0.404585</td>\n",
       "      <td>-0.155433</td>\n",
       "      <td>-0.356179</td>\n",
       "    </tr>\n",
       "  </tbody>\n",
       "</table>\n",
       "<p>5 rows × 207 columns</p>\n",
       "</div>"
      ]
     },
     "execution_count": 46,
     "metadata": {},
     "output_type": "execute_result"
    }
   ],
   "execution_count": 46
  },
  {
   "metadata": {},
   "cell_type": "markdown",
   "source": "### Modèle de régression logistique sur 8RGB",
   "id": "28c5a14914f11804"
  },
  {
   "metadata": {
    "ExecuteTime": {
     "end_time": "2024-12-28T12:23:03.790994Z",
     "start_time": "2024-12-28T12:23:02.643241Z"
    }
   },
   "cell_type": "code",
   "source": [
    "\n",
    "# Entraînement\n",
    "logreg = LogisticRegression(max_iter=10000)\n",
    "logreg.fit(X_train_scaled, y_train)\n",
    "\n",
    "# Prédictions\n",
    "y_pred_logreg = logreg.predict(X_test_scaled)\n",
    "y_pred_proba_logreg = logreg.predict_proba(X_test_scaled)[:, 1]\n",
    "\n",
    "# Calcul des métriques\n",
    "accuracy_logreg = accuracy_score(y_test, y_pred_logreg)\n",
    "roc_auc_logreg = roc_auc_score(y_test, y_pred_proba_logreg)\n",
    "\n",
    "print(f\"Exactitude (Accuracy) : {accuracy_logreg:.2f}\")\n",
    "print(f\"Score ROC-AUC : {roc_auc_logreg:.2f}\")\n",
    "\n",
    "# Matrice de confusion\n",
    "cm = confusion_matrix(y_test, y_pred_logreg)\n",
    "plt.figure(figsize=(6, 4))\n",
    "sns.heatmap(cm, annot=True, fmt='d', cmap='Blues', xticklabels=['Non BCC', 'BCC'], yticklabels=['Non BCC', 'BCC'])\n",
    "plt.title(\"Matrice de confusion (Régression Logistique)\")\n",
    "plt.xlabel(\"Prédictions\")\n",
    "plt.ylabel(\"Réel\")\n",
    "# sauvegarde de l'image de la matrice de confusion dans le dossier reports/images/entrainement/8RGB avec creation du dossier si il n'existe pas\n",
    "# create the folder if it doesn't exist\n",
    "import os\n",
    "if not os.path.exists('reports/images/entrainement/8RGB'):\n",
    "    os.makedirs('reports/images/entrainement/8RGB')\n",
    "plt.savefig('reports/images/entrainement/8RGB/mat_conf_logreg_8RGB.png')\n",
    "plt.show()\n",
    "# sauvegarde du modele au format pkl dans le dossier models/8RGB\n",
    "filename = 'models/model_logreg_8RGB.pkl'\n",
    "pickle.dump(logreg, open(filename, 'wb'))\n",
    "\n",
    "\n"
   ],
   "id": "291f4c151413ed03",
   "outputs": [
    {
     "name": "stdout",
     "output_type": "stream",
     "text": [
      "Exactitude (Accuracy) : 0.96\n",
      "Score ROC-AUC : 0.95\n"
     ]
    },
    {
     "data": {
      "text/plain": [
       "<Figure size 600x400 with 2 Axes>"
      ],
      "image/png": "[encoded data removed]"
     },
     "metadata": {},
     "output_type": "display_data"
    }
   ],
   "execution_count": 47
  },
  {
   "metadata": {},
   "cell_type": "markdown",
   "source": "### On remarque que la regression logistique a une accuracy de 0.96 et un score roc-auc de 0.95 cependant on peut essayer d'autres algorithmes pour voir si on peut avoir de meilleurs resultats , car pour la regression logistique le nombre de faux negatifs est assez eleve",
   "id": "b519cd1f6fcc4552"
  },
  {
   "metadata": {},
   "cell_type": "markdown",
   "source": "### Modèle Random Forest sur 8RGB",
   "id": "cf65ee93f455fc2f"
  },
  {
   "metadata": {
    "ExecuteTime": {
     "end_time": "2024-12-28T12:23:09.284030Z",
     "start_time": "2024-12-28T12:23:03.955111Z"
    }
   },
   "cell_type": "code",
   "source": [
    "from sklearn.ensemble import RandomForestClassifier\n",
    "\n",
    "# Entraînement\n",
    "rf = RandomForestClassifier(n_estimators=100, random_state=42)\n",
    "rf.fit(X_train_scaled, y_train)\n",
    "\n",
    "# Prédictions\n",
    "y_pred_rf = rf.predict(X_test_scaled)\n",
    "y_pred_proba_rf = rf.predict_proba(X_test_scaled)[:, 1]\n",
    "\n",
    "# Calcul des métriques\n",
    "accuracy_rf = accuracy_score(y_test, y_pred_rf)\n",
    "roc_auc_rf = roc_auc_score(y_test, y_pred_proba_rf)\n",
    "\n",
    "print(f\"Exactitude (Accuracy) : {accuracy_rf:.2f}\")\n",
    "print(f\"Score ROC-AUC : {roc_auc_rf:.2f}\")\n",
    "\n",
    "# Matrice de confusion\n",
    "cm_rf = confusion_matrix(y_test, y_pred_rf)\n",
    "plt.figure(figsize=(6, 4))\n",
    "sns.heatmap(cm_rf, annot=True, fmt='d', cmap='Greens', xticklabels=['Non BCC', 'BCC'], yticklabels=['Non BCC', 'BCC'])\n",
    "\n",
    "plt.title(\"Matrice de confusion (Random Forest)\")\n",
    "plt.xlabel(\"Prédictions\")\n",
    "plt.ylabel(\"Réel\")\n",
    "# sauvegarde de l'image de la matrice de confusion dans le dossier reports/images/entrainement/8RGB avec creation du dossier si il n'existe pas\n",
    "# create the folder if it doesn't exist\n",
    "import os\n",
    "if not os.path.exists('reports/images/entrainement/8RGB'):\n",
    "    os.makedirs('reports/images/entrainement/8RGB')\n",
    "plt.savefig('reports/images/entrainement/8RGB/mat_conf_rf_8RGB.png')\n",
    "plt.show()\n",
    "# sauvegarde du modele au format pkl dans le dossier models/8RGB\n",
    "filename = 'models/model_rf_8RGB.pkl'\n",
    "pickle.dump(rf, open(filename, 'wb'))\n",
    "\n",
    "\n"
   ],
   "id": "c374a0d65c5287b4",
   "outputs": [
    {
     "name": "stdout",
     "output_type": "stream",
     "text": [
      "Exactitude (Accuracy) : 0.96\n",
      "Score ROC-AUC : 0.92\n"
     ]
    },
    {
     "data": {
      "text/plain": [
       "<Figure size 600x400 with 2 Axes>"
      ],
      "image/png": "[encoded data removed]"
     },
     "metadata": {},
     "output_type": "display_data"
    }
   ],
   "execution_count": 48
  },
  {
   "metadata": {},
   "cell_type": "markdown",
   "source": "### Le modele Random Forest a une accuracy de 0.96 et un score roc-auc de 0.92 , on peut dire que c'est un tres bon modele pour la prediction de BCC , bien que le nombre de faux negatifs soit assez eleve , on peut essayer d'autres algorithmes pour voir si on peut avoir de meilleurs resultats",
   "id": "5b84a62d3f82fba1"
  },
  {
   "metadata": {},
   "cell_type": "markdown",
   "source": "### Arbres de Décision sur 8RGB",
   "id": "156a756c5f2c7c28"
  },
  {
   "metadata": {
    "ExecuteTime": {
     "end_time": "2024-12-28T12:26:17.893581Z",
     "start_time": "2024-12-28T12:26:15.867525Z"
    }
   },
   "cell_type": "code",
   "source": [
    "# Entraînement\n",
    "dt = DecisionTreeClassifier(random_state=42)\n",
    "dt.fit(X_train_scaled, y_train)\n",
    "\n",
    "# Prédictions\n",
    "y_pred_dt = dt.predict(X_test_scaled)\n",
    "y_pred_proba_dt = dt.predict_proba(X_test_scaled)[:, 1]\n",
    "\n",
    "# Calcul des métriques\n",
    "accuracy_dt = accuracy_score(y_test, y_pred_dt)\n",
    "roc_auc_dt = roc_auc_score(y_test, y_pred_proba_dt)\n",
    "\n",
    "print(f\"Exactitude (Accuracy) : {accuracy_dt:.2f}\")\n",
    "print(f\"Score ROC-AUC : {roc_auc_dt:.2f}\")\n",
    "\n",
    "# Matrice de confusion\n",
    "cm_dt = confusion_matrix(y_test, y_pred_dt)\n",
    "plt.figure(figsize=(6, 4))\n",
    "sns.heatmap(cm_dt, annot=True, fmt='d', cmap='Greens', xticklabels=['Non BCC', 'BCC'], yticklabels=['Non BCC', 'BCC'])\n",
    "\n",
    "plt.title(\"Matrice de confusion (ARBRE DE DESCISION)\")\n",
    "plt.xlabel(\"Prédictions\")\n",
    "plt.ylabel(\"Réel\")\n",
    "# sauvegarde de l'image de la matrice de confusion dans le dossier reports/images/entrainement/8RGB avec creation du dossier si il n'existe pas\n",
    "# create the folder if it doesn't exist\n",
    "import os\n",
    "if not os.path.exists('reports/images/entrainement/8RGB'):\n",
    "    os.makedirs('reports/images/entrainement/8RGB')\n",
    "plt.savefig('reports/images/entrainement/8RGB/mat_conf_dt_8RGB.png')\n",
    "plt.show()\n",
    "# sauvegarde du modele au format pkl dans le dossier models/8RGB\n",
    "filename = 'models/model_dt_8RGB.pkl'\n",
    "pickle.dump(rf, open(filename, 'wb'))\n",
    "\n",
    "\n"
   ],
   "id": "43df0acd22c90055",
   "outputs": [
    {
     "name": "stdout",
     "output_type": "stream",
     "text": [
      "Exactitude (Accuracy) : 0.93\n",
      "Score ROC-AUC : 0.63\n"
     ]
    },
    {
     "data": {
      "text/plain": [
       "<Figure size 600x400 with 2 Axes>"
      ],
      "image/png": "[encoded data removed]"
     },
     "metadata": {},
     "output_type": "display_data"
    }
   ],
   "execution_count": 50
  },
  {
   "metadata": {},
   "cell_type": "markdown",
   "source": "",
   "id": "1906e0698526c212"
  },
  {
   "metadata": {},
   "cell_type": "markdown",
   "source": "### Le modele d'arbre de decision identifie plus de cas BCC que les autres et mais moins de faux negatifs , il sera sans doute meilleur avec un jeu de donnees plus detaille ",
   "id": "b6cce20973ee6cfe"
  },
  {
   "metadata": {},
   "cell_type": "markdown",
   "source": [
    "## RECAPITULATIF DES MODELES SUR LE DATASET 8RGB : IMAGES 8x8 EN RGB on constate une legere amelioration du modele\n",
    "- Regression Logistique : Accuracy = 0.96, ROC-AUC = 0.95 , meilleur modele pour la prediction de BCC\n",
    "- Random Forest : Accuracy = 0.96, ROC-AUC = 0.92 , moins de faux negatifs que les autres modeles mais plus de faux positifs\n",
    "- Decision Tree : Accuracy = 0.93, ROC-AUC = 0.63 , meilleur modele pour la prediction de BCC"
   ],
   "id": "ae536ec54e825f12"
  },
  {
   "metadata": {},
   "cell_type": "markdown",
   "source": "## ENTRAINEMENT SUIVANT AVEC LE DATASET 28RGB : IMAGES 28x28 EN NIVEAU DE GRIS\n",
   "id": "a0ae1bc3dc952b70"
  },
  {
   "metadata": {
    "ExecuteTime": {
     "end_time": "2024-12-28T12:23:10.490026Z",
     "start_time": "2024-12-28T12:23:10.473867Z"
    }
   },
   "cell_type": "code",
   "source": "",
   "id": "bdcb03acd2ed565c",
   "outputs": [],
   "execution_count": null
  },
  {
   "metadata": {},
   "cell_type": "markdown",
   "source": "# ON PEUT NOTER UNE CERTAINE AMELIORATION DES MODELES AVEC LE DATASET 8RGB , MAIS POUR SAVOIR SI LA COULEUR A UN REEL IMPACT PAR RAPPORT AU NOMBRE E PIXELS , NOUS ALLONS ENTRAINER LE MODELE AVEC LE DATASET 28L ",
   "id": "59dd5094c43a0e8f"
  }
 ],
 "metadata": {
  "kernelspec": {
   "display_name": "Python 3",
   "language": "python",
   "name": "python3"
  },
  "language_info": {
   "codemirror_mode": {
    "name": "ipython",
    "version": 2
   },
   "file_extension": ".py",
   "mimetype": "text/x-python",
   "name": "python",
   "nbconvert_exporter": "python",
   "pygments_lexer": "ipython2",
   "version": "2.7.6"
  }
 },
 "nbformat": 4,
 "nbformat_minor": 5
}
