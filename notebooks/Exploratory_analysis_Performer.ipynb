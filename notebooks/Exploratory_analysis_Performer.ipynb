{
 "cells": [
  {
   "cell_type": "code",
   "execution_count": 3,
   "id": "3d00037d-7dad-4e39-b1f4-ae1684ea76a6",
   "metadata": {},
   "outputs": [
    {
     "name": "stdout",
     "output_type": "stream",
     "text": [
      "Aperçu des premières lignes du dataset :\n",
      "     lesion_id      image_id   dx dx_type   age   sex localization\n",
      "0  HAM_0000118  ISIC_0027419  bkl   histo  80.0  male        scalp\n",
      "1  HAM_0000118  ISIC_0025030  bkl   histo  80.0  male        scalp\n",
      "2  HAM_0002730  ISIC_0026769  bkl   histo  80.0  male        scalp\n",
      "3  HAM_0002730  ISIC_0025661  bkl   histo  80.0  male        scalp\n",
      "4  HAM_0001466  ISIC_0031633  bkl   histo  75.0  male          ear\n"
     ]
    }
   ],
   "source": [
    "# Importation des bibliothèques nécessaires\n",
    "import pandas as pd  # Pour la manipulation des données tabulaires\n",
    "import numpy as np  # Pour les calculs numériques si nécessaire\n",
    "\n",
    "# Charger le fichier CSV dans un DataFrame\n",
    "file_path = 'D://MSI-1//Machine Learning//HAM10000_metadata.csv'  # Remplacez par le chemin de votre fichier\n",
    "df = pd.read_csv(file_path)\n",
    "\n",
    "# Affichage des premières lignes pour un aperçu général\n",
    "print(\"Aperçu des premières lignes du dataset :\")\n",
    "print(df.head())"
   ]
  },
  {
   "cell_type": "code",
   "execution_count": 4,
   "id": "ef5d7126-27c6-40e9-a79c-78b7c79f3a55",
   "metadata": {},
   "outputs": [
    {
     "name": "stdout",
     "output_type": "stream",
     "text": [
      "\n",
      "Dimensions du dataset (lignes, colonnes) :\n",
      "(10015, 7)\n"
     ]
    }
   ],
   "source": [
    "# Dimensions du dataset (nombre de lignes et de colonnes)\n",
    "print(\"\\nDimensions du dataset (lignes, colonnes) :\")\n",
    "print(df.shape)"
   ]
  },
  {
   "cell_type": "code",
   "execution_count": 5,
   "id": "20d04fd4-1b06-4691-8cbe-cf486141da35",
   "metadata": {},
   "outputs": [
    {
     "name": "stdout",
     "output_type": "stream",
     "text": [
      "\n",
      "Informations sur le dataset :\n",
      "<class 'pandas.core.frame.DataFrame'>\n",
      "RangeIndex: 10015 entries, 0 to 10014\n",
      "Data columns (total 7 columns):\n",
      " #   Column        Non-Null Count  Dtype  \n",
      "---  ------        --------------  -----  \n",
      " 0   lesion_id     10015 non-null  object \n",
      " 1   image_id      10015 non-null  object \n",
      " 2   dx            10015 non-null  object \n",
      " 3   dx_type       10015 non-null  object \n",
      " 4   age           9958 non-null   float64\n",
      " 5   sex           10015 non-null  object \n",
      " 6   localization  10015 non-null  object \n",
      "dtypes: float64(1), object(6)\n",
      "memory usage: 547.8+ KB\n",
      "None\n"
     ]
    }
   ],
   "source": [
    "# Informations générales sur le dataset (types de données, valeurs non nulles)\n",
    "print(\"\\nInformations sur le dataset :\")\n",
    "print(df.info())"
   ]
  },
  {
   "cell_type": "code",
   "execution_count": 6,
   "id": "9064ad54-eddc-4f04-8a17-cf87384f75bf",
   "metadata": {},
   "outputs": [
    {
     "name": "stdout",
     "output_type": "stream",
     "text": [
      "\n",
      "Statistiques descriptives des colonnes numériques :\n",
      "               age\n",
      "count  9958.000000\n",
      "mean     51.863828\n",
      "std      16.968614\n",
      "min       0.000000\n",
      "25%      40.000000\n",
      "50%      50.000000\n",
      "75%      65.000000\n",
      "max      85.000000\n"
     ]
    }
   ],
   "source": [
    "# Statistiques descriptives des colonnes numériques\n",
    "print(\"\\nStatistiques descriptives des colonnes numériques :\")\n",
    "print(df.describe())"
   ]
  },
  {
   "cell_type": "code",
   "execution_count": 8,
   "id": "1035356b-44bd-4dd2-b7d6-5fe38f28f4b5",
   "metadata": {},
   "outputs": [
    {
     "name": "stdout",
     "output_type": "stream",
     "text": [
      "\n",
      "Valeurs manquantes par colonne :\n",
      "age    57\n",
      "dtype: int64\n"
     ]
    }
   ],
   "source": [
    "# Affichage des colonnes avec des valeurs manquantes\n",
    "missing_values = df.isnull().sum()\n",
    "print(\"\\nValeurs manquantes par colonne :\")\n",
    "print(missing_values[missing_values > 0])"
   ]
  },
  {
   "cell_type": "code",
   "execution_count": 13,
   "id": "2b8022b7-7461-4338-bc4b-24744445e288",
   "metadata": {},
   "outputs": [
    {
     "name": "stdout",
     "output_type": "stream",
     "text": [
      "\n",
      "Valeurs manquantes dans 'age' après imputation :\n",
      "0\n"
     ]
    }
   ],
   "source": [
    "# Imputation des valeurs manquantes par la médiane\n",
    "df['age'] = df['age'].fillna(df['age'].median())\n",
    "\n",
    "# Vérification après imputation\n",
    "print(\"\\nValeurs manquantes dans 'age' après imputation :\")\n",
    "print(df['age'].isnull().sum())"
   ]
  },
  {
   "cell_type": "code",
   "execution_count": 14,
   "id": "0111b6e0-bf68-44b6-86ef-1b2b18626957",
   "metadata": {},
   "outputs": [
    {
     "name": "stdout",
     "output_type": "stream",
     "text": [
      "\n",
      "Statistiques de la colonne 'age' après imputation :\n",
      "count    10015.000000\n",
      "mean        51.853220\n",
      "std         16.920833\n",
      "min          0.000000\n",
      "25%         40.000000\n",
      "50%         50.000000\n",
      "75%         65.000000\n",
      "max         85.000000\n",
      "Name: age, dtype: float64\n"
     ]
    }
   ],
   "source": [
    "# Afficher les statistiques après imputation\n",
    "print(\"\\nStatistiques de la colonne 'age' après imputation :\")\n",
    "print(df['age'].describe())"
   ]
  },
  {
   "cell_type": "code",
   "execution_count": 15,
   "id": "3c9c97f9-989c-4cb8-bf8d-6b17719d6949",
   "metadata": {},
   "outputs": [
    {
     "name": "stdout",
     "output_type": "stream",
     "text": [
      "\n",
      "Colonnes numériques : Index(['age'], dtype='object')\n",
      "Colonnes catégoriques : Index(['lesion_id', 'image_id', 'dx', 'dx_type', 'sex', 'localization'], dtype='object')\n"
     ]
    }
   ],
   "source": [
    "import matplotlib.pyplot as plt\n",
    "import seaborn as sns\n",
    "\n",
    "# Séparer les colonnes numériques et catégoriques\n",
    "numerical_columns = df.select_dtypes(include=['float64', 'int64']).columns\n",
    "categorical_columns = df.select_dtypes(include=['object', 'category']).columns\n",
    "\n",
    "\n",
    "print(\"\\nColonnes numériques :\", numerical_columns)\n",
    "print(\"Colonnes catégoriques :\", categorical_columns)"
   ]
  },
  {
   "cell_type": "code",
   "execution_count": 16,
   "id": "d978c145-da82-40be-ab0b-b49baec5f071",
   "metadata": {},
   "outputs": [
    {
     "data": {
      "image/png": "[encoded data removed]",
      "text/plain": [
       "<Figure size 1200x600 with 1 Axes>"
      ]
     },
     "metadata": {},
     "output_type": "display_data"
    }
   ],
   "source": [
    "# 1. Visualisation des distributions des variables numériques\n",
    "plt.figure(figsize=(12, 6))\n",
    "for i, col in enumerate(numerical_columns, 1):\n",
    "    plt.subplot(1, len(numerical_columns), i)\n",
    "    sns.histplot(df[col], kde=True, bins=30, color='blue')\n",
    "    plt.title(f\"Distribution de {col}\")\n",
    "    plt.xlabel(col)\n",
    "    plt.ylabel(\"Fréquence\")\n",
    "plt.tight_layout()\n",
    "plt.show()"
   ]
  },
  {
   "cell_type": "code",
   "execution_count": 17,
   "id": "9ddc19ad-f9e9-4def-bdf3-8ca5141eac30",
   "metadata": {},
   "outputs": [
    {
     "data": {
      "image/png": "[encoded data removed]",
      "text/plain": [
       "<Figure size 1200x600 with 1 Axes>"
      ]
     },
     "metadata": {},
     "output_type": "display_data"
    }
   ],
   "source": [
    "# 2. Boxplots pour détecter les valeurs aberrantes dans les variables numériques\n",
    "plt.figure(figsize=(12, 6))\n",
    "for i, col in enumerate(numerical_columns, 1):\n",
    "    plt.subplot(1, len(numerical_columns), i)\n",
    "    sns.boxplot(x=df[col], color='green')\n",
    "    plt.title(f\"Boxplot de {col}\")\n",
    "    plt.xlabel(col)\n",
    "plt.tight_layout()\n",
    "plt.show()"
   ]
  },
  {
   "cell_type": "code",
   "execution_count": 31,
   "id": "ddfc6510-e21f-4fc9-b13c-1236dd0dd377",
   "metadata": {},
   "outputs": [
    {
     "name": "stdout",
     "output_type": "stream",
     "text": [
      "\n",
      "Proportions des différentes catégories de 'dx':\n",
      " dx\n",
      "nv       0.669496\n",
      "mel      0.111133\n",
      "bkl      0.109735\n",
      "bcc      0.051323\n",
      "akiec    0.032651\n",
      "vasc     0.014179\n",
      "df       0.011483\n",
      "Name: proportion, dtype: float64\n"
     ]
    }
   ],
   "source": [
    "#### Ananlyse centré sur le cas de \"BCC\" ####\n",
    "\n",
    "# 1. Filtrer les cas \"bcc\"\n",
    "bcc_data = df[df['dx'] == 'bcc'] \n",
    "non_bcc_df = df[df['dx'] != 'bcc']\n",
    "# dx représente les différents diagnostiques\n",
    "\n",
    "# 2. Proportions des cas \"bcc\" par rapport aux autres\n",
    "proportions = df['dx'].value_counts(normalize=True)\n",
    "print(\"\\nProportions des différentes catégories de 'dx':\\n\", proportions)"
   ]
  },
  {
   "cell_type": "code",
   "execution_count": 24,
   "id": "a32e44cf-5e2a-4e03-8989-8a99f3a2a070",
   "metadata": {},
   "outputs": [
    {
     "name": "stderr",
     "output_type": "stream",
     "text": [
      "C:\\Users\\user\\AppData\\Local\\Temp\\ipykernel_12276\\1095611641.py:3: FutureWarning: \n",
      "\n",
      "Passing `palette` without assigning `hue` is deprecated and will be removed in v0.14.0. Assign the `x` variable to `hue` and set `legend=False` for the same effect.\n",
      "\n",
      "  sns.countplot(data=df, x='dx', order=df['dx'].value_counts().index, palette='muted')\n"
     ]
    },
    {
     "data": {
      "image/png": "[encoded data removed]",
      "text/plain": [
       "<Figure size 800x600 with 1 Axes>"
      ]
     },
     "metadata": {},
     "output_type": "display_data"
    }
   ],
   "source": [
    "# Visualiser les proportions\n",
    "plt.figure(figsize=(8, 6))\n",
    "sns.countplot(data=df, x='dx', order=df['dx'].value_counts().index, palette='muted')\n",
    "plt.title(\"Proportions des différentes catégories (y compris 'bcc')\")\n",
    "plt.xlabel(\"Catégories (dx)\")\n",
    "plt.ylabel(\"Nombre d'exemples\")\n",
    "plt.xticks(rotation=45)\n",
    "plt.show()"
   ]
  },
  {
   "cell_type": "code",
   "execution_count": 25,
   "id": "e77a26ae-dd65-4799-b609-4e3becf98f25",
   "metadata": {},
   "outputs": [
    {
     "data": {
      "image/png": "[encoded data removed]",
      "text/plain": [
       "<Figure size 800x600 with 1 Axes>"
      ]
     },
     "metadata": {},
     "output_type": "display_data"
    }
   ],
   "source": [
    "# 3. Distribution des âges pour \"bcc\"\n",
    "plt.figure(figsize=(8, 6))\n",
    "sns.histplot(bcc_data['age'], kde=True, bins=20, color='blue')\n",
    "plt.title(\"Distribution de l'âge pour les patients atteints de 'bcc'\")\n",
    "plt.xlabel(\"Âge\")\n",
    "plt.ylabel(\"Fréquence\")\n",
    "plt.show()"
   ]
  },
  {
   "cell_type": "code",
   "execution_count": 26,
   "id": "5eb4fb56-da87-4646-8cdb-f89ddbca00c0",
   "metadata": {},
   "outputs": [
    {
     "name": "stderr",
     "output_type": "stream",
     "text": [
      "C:\\Users\\user\\AppData\\Local\\Temp\\ipykernel_12276\\1200386244.py:3: FutureWarning: \n",
      "\n",
      "Passing `palette` without assigning `hue` is deprecated and will be removed in v0.14.0. Assign the `x` variable to `hue` and set `legend=False` for the same effect.\n",
      "\n",
      "  sns.boxplot(data=df, x='dx', y='age', palette='muted', order=df['dx'].value_counts().index)\n"
     ]
    },
    {
     "data": {
      "image/png": "[encoded data removed]",
      "text/plain": [
       "<Figure size 1200x600 with 1 Axes>"
      ]
     },
     "metadata": {},
     "output_type": "display_data"
    }
   ],
   "source": [
    "# 4. Comparaison des variables numériques pour \"bcc\" et autres\n",
    "plt.figure(figsize=(12, 6))\n",
    "sns.boxplot(data=df, x='dx', y='age', palette='muted', order=df['dx'].value_counts().index)\n",
    "plt.title(\"Comparaison de l'âge pour 'bcc' et autres catégories\")\n",
    "plt.xlabel(\"Catégories (dx)\")\n",
    "plt.ylabel(\"Âge\")\n",
    "plt.xticks(rotation=45)\n",
    "plt.show()"
   ]
  },
  {
   "cell_type": "code",
   "execution_count": 27,
   "id": "bad7849d-c53e-4284-8b6d-6e76eab8c535",
   "metadata": {},
   "outputs": [
    {
     "name": "stderr",
     "output_type": "stream",
     "text": [
      "C:\\Users\\user\\AppData\\Local\\Temp\\ipykernel_12276\\4092261640.py:3: FutureWarning: \n",
      "\n",
      "Passing `palette` without assigning `hue` is deprecated and will be removed in v0.14.0. Assign the `x` variable to `hue` and set `legend=False` for the same effect.\n",
      "\n",
      "  sns.countplot(data=bcc_data, x='localization', order=bcc_data['localization'].value_counts().index, palette='viridis')\n"
     ]
    },
    {
     "data": {
      "image/png": "[encoded data removed]",
      "text/plain": [
       "<Figure size 1000x600 with 1 Axes>"
      ]
     },
     "metadata": {},
     "output_type": "display_data"
    }
   ],
   "source": [
    "# 5. Distribution des localisations anatomiques pour \"bcc\"\n",
    "plt.figure(figsize=(10, 6))\n",
    "sns.countplot(data=bcc_data, x='localization', order=bcc_data['localization'].value_counts().index, palette='viridis')\n",
    "plt.title(\"Fréquence des localisations pour 'bcc'\")\n",
    "plt.xlabel(\"Localisation anatomique\")\n",
    "plt.ylabel(\"Nombre d'exemples\")\n",
    "plt.xticks(rotation=45)\n",
    "plt.show()"
   ]
  },
  {
   "cell_type": "code",
   "execution_count": 34,
   "id": "c5b5cb65-17ae-4d21-9a6a-464e447d9fa2",
   "metadata": {},
   "outputs": [
    {
     "data": {
      "image/png": "[encoded data removed]",
      "text/plain": [
       "<Figure size 1200x600 with 1 Axes>"
      ]
     },
     "metadata": {},
     "output_type": "display_data"
    }
   ],
   "source": [
    "# Relation entre localisation et cas bcc vs non-bcc\n",
    "plt.figure(figsize=(12, 6))\n",
    "\n",
    "# Diagramme en barres des localisations pour les cas bcc et non-bcc\n",
    "sns.countplot(data=df, x='localization', hue='dx', order=df['localization'].value_counts().index, palette='viridis')\n",
    "plt.title(\"Distribution des localisations pour les cas bcc et non-bcc\")\n",
    "plt.xlabel(\"Localisation anatomique\")\n",
    "plt.ylabel(\"Nombre de cas\")\n",
    "plt.legend(title=\"Diagnostic\", labels=['non-bcc', 'bcc'])\n",
    "plt.xticks(rotation=45)\n",
    "plt.show()"
   ]
  },
  {
   "cell_type": "code",
   "execution_count": 37,
   "id": "547b2f15-10d3-4768-ad30-147a9e0cc46c",
   "metadata": {},
   "outputs": [
    {
     "data": {
      "image/png": "[encoded data removed]",
      "text/plain": [
       "<Figure size 1000x800 with 2 Axes>"
      ]
     },
     "metadata": {},
     "output_type": "display_data"
    }
   ],
   "source": [
    "import pandas as pd\n",
    "# Étape 3 : Corrélations entre sexe, âge et localisation pour les cas bcc\n",
    "plt.figure(figsize=(10, 8))\n",
    "\n",
    "# Tableau croisé pour sexe, âge, et localisation dans les cas bcc\n",
    "bcc_cross = pd.crosstab(bcc_data['sex'], bcc_data['localization'])\n",
    "\n",
    "# Heatmap des relations entre sexe et localisation dans les cas bcc\n",
    "sns.heatmap(bcc_cross, annot=True, fmt='d', cmap='coolwarm')\n",
    "plt.title(\"Relation entre sexe et localisation dans les cas bcc\")\n",
    "plt.xlabel(\"Localisation anatomique\")\n",
    "plt.ylabel(\"Sexe\")\n",
    "plt.show()"
   ]
  },
  {
   "cell_type": "code",
   "execution_count": 39,
   "id": "ad899048-552d-4c9a-a26d-b1939c7be9e7",
   "metadata": {},
   "outputs": [
    {
     "name": "stderr",
     "output_type": "stream",
     "text": [
      "C:\\Users\\user\\AppData\\Local\\Temp\\ipykernel_12276\\4184197334.py:3: FutureWarning: \n",
      "\n",
      "Passing `palette` without assigning `hue` is deprecated and will be removed in v0.14.0. Assign the `x` variable to `hue` and set `legend=False` for the same effect.\n",
      "\n",
      "  sns.boxplot(data=bcc_data, x='localization', y='age', palette='viridis')\n"
     ]
    },
    {
     "data": {
      "image/png": "[encoded data removed]",
      "text/plain": [
       "<Figure size 1200x600 with 1 Axes>"
      ]
     },
     "metadata": {},
     "output_type": "display_data"
    }
   ],
   "source": [
    "# Relation entre âge et localisation pour les cas bcc (graphiques en boîtes)\n",
    "plt.figure(figsize=(12, 6))\n",
    "sns.boxplot(data=bcc_data, x='localization', y='age', palette='viridis')\n",
    "plt.title(\"Relation entre âge et localisation pour les cas bcc\")\n",
    "plt.xlabel(\"Localisation anatomique\")\n",
    "plt.ylabel(\"Âge\")\n",
    "plt.xticks(rotation=45)\n",
    "plt.show()"
   ]
  },
  {
   "cell_type": "code",
   "execution_count": 59,
   "id": "2b3357d9-7a86-4eaa-81aa-7410dfbbeeca",
   "metadata": {},
   "outputs": [
    {
     "data": {
      "application/vnd.plotly.v1+json": {
       "config": {
        "plotlyServerURL": "https://plot.ly"
       },
       "data": [
        {
         "hovertemplate": "age=%{x}<br>Sexe=%{y}<br>Localisation=%{z}<br>index=%{marker.color}<extra></extra>",
         "legendgroup": "",
         "marker": {
          "color": [
           2462,
           2463,
           2464,
           2465,
           2466,
           2467,
           2468,
           2469,
           2470,
           2471,
           2472,
           2473,
           2474,
           2475,
           2476,
           2477,
           2478,
           2479,
           2480,
           2481,
           2482,
           2483,
           2484,
           2485,
           2486,
           2487,
           2488,
           2489,
           2490,
           2491,
           2492,
           2493,
           2494,
           2495,
           2496,
           2497,
           2498,
           2499,
           2500,
           2501,
           2502,
           2503,
           2504,
           2505,
           2506,
           2507,
           2508,
           2509,
           2510,
           2511,
           2512,
           2513,
           2514,
           2515,
           2516,
           2517,
           2518,
           2519,
           2520,
           2521,
           2522,
           2523,
           2524,
           2525,
           2526,
           2527,
           2528,
           2529,
           2530,
           2531,
           2532,
           2533,
           2534,
           2535,
           2536,
           2537,
           2538,
           2539,
           2540,
           2541,
           2542,
           2543,
           2544,
           2545,
           2546,
           2547,
           2548,
           2549,
           2550,
           2551,
           2552,
           2553,
           2554,
           2555,
           2556,
           2557,
           2558,
           2559,
           2560,
           2561,
           2562,
           2563,
           2564,
           2565,
           2566,
           2567,
           2568,
           2569,
           2570,
           2571,
           2572,
           2573,
           2574,
           2575,
           2576,
           2577,
           2578,
           2579,
           2580,
           2581,
           2582,
           2583,
           2584,
           2585,
           2586,
           2587,
           2588,
           2589,
           2590,
           2591,
           2592,
           2593,
           2594,
           2595,
           2596,
           2597,
           2598,
           2599,
           2600,
           2601,
           2602,
           2603,
           2604,
           2605,
           2606,
           2607,
           2608,
           2609,
           2610,
           2611,
           2612,
           2613,
           2614,
           2615,
           2616,
           2617,
           2618,
           2619,
           2620,
           2621,
           2622,
           2623,
           2624,
           2625,
           2626,
           2627,
           2628,
           2629,
           2630,
           2631,
           2632,
           2633,
           2634,
           2635,
           2636,
           2637,
           2638,
           2639,
           2640,
           2641,
           2642,
           2643,
           2644,
           2645,
           2646,
           2647,
           2648,
           2649,
           2650,
           2651,
           2652,
           2653,
           2654,
           2655,
           2656,
           2657,
           2658,
           2659,
           2660,
           2661,
           2662,
           2663,
           2664,
           2665,
           2666,
           2667,
           2668,
           2669,
           2670,
           2671,
           2672,
           2673,
           2674,
           2675,
           2676,
           2677,
           2678,
           2679,
           2680,
           2681,
           2682,
           2683,
           2684,
           2685,
           2686,
           2687,
           2688,
           2689,
           2690,
           2691,
           2692,
           2693,
           2694,
           2695,
           2696,
           2697,
           2698,
           2699,
           2700,
           2701,
           2702,
           2703,
           2704,
           2705,
           2706,
           2707,
           2708,
           2709,
           2710,
           2711,
           2712,
           2713,
           2714,
           2715,
           2716,
           2717,
           2718,
           2719,
           2720,
           2721,
           2722,
           2723,
           2724,
           2725,
           2726,
           2727,
           2728,
           2729,
           2730,
           2731,
           2732,
           2733,
           2734,
           2735,
           2736,
           2737,
           2738,
           2739,
           2740,
           2741,
           2742,
           2743,
           2744,
           2745,
           2746,
           2747,
           2748,
           2749,
           2750,
           2751,
           2752,
           2753,
           2754,
           2755,
           2756,
           2757,
           2758,
           2759,
           2760,
           2761,
           2762,
           2763,
           2764,
           2765,
           2766,
           2767,
           2768,
           2769,
           2770,
           2771,
           2772,
           2773,
           2774,
           2775,
           2776,
           2777,
           2778,
           2779,
           2780,
           2781,
           2782,
           2783,
           2784,
           2785,
           2786,
           2787,
           2788,
           2789,
           2790,
           2791,
           2792,
           2793,
           2794,
           2795,
           2796,
           2797,
           2798,
           2799,
           2800,
           2801,
           2802,
           2803,
           2804,
           2805,
           2806,
           2807,
           2808,
           2809,
           2810,
           2811,
           2812,
           2813,
           2814,
           2815,
           2816,
           2817,
           2818,
           2819,
           2820,
           2821,
           2822,
           2823,
           2824,
           2825,
           2826,
           2827,
           2828,
           2829,
           2830,
           2831,
           2832,
           2833,
           2834,
           2835,
           2836,
           2837,
           2838,
           2839,
           2840,
           2841,
           2842,
           2843,
           2844,
           2845,
           2846,
           2847,
           2848,
           2849,
           2850,
           2851,
           2852,
           2853,
           2854,
           2855,
           2856,
           2857,
           2858,
           2859,
           2860,
           2861,
           2862,
           2863,
           2864,
           2865,
           2866,
           2867,
           2868,
           2869,
           2870,
           2871,
           2872,
           2873,
           2874,
           2875,
           2876,
           2877,
           2878,
           2879,
           2880,
           2881,
           2882,
           2883,
           2884,
           2885,
           2886,
           2887,
           2888,
           2889,
           2890,
           2891,
           2892,
           2893,
           2894,
           2895,
           2896,
           2897,
           2898,
           2899,
           2900,
           2901,
           2902,
           2903,
           2904,
           2905,
           2906,
           2907,
           2908,
           2909,
           2910,
           2911,
           2912,
           2913,
           2914,
           2915,
           2916,
           2917,
           2918,
           2919,
           2920,
           2921,
           2922,
           2923,
           2924,
           2925,
           2926,
           2927,
           2928,
           2929,
           2930,
           2931,
           2932,
           2933,
           2934,
           2935,
           2936,
           2937,
           2938,
           2939,
           2940,
           2941,
           2942,
           2943,
           2944,
           2945,
           2946,
           2947,
           2948,
           2949,
           2950,
           2951,
           2952,
           2953,
           2954,
           2955,
           2956,
           2957,
           2958,
           2959,
           2960,
           2961,
           2962,
           2963,
           2964,
           2965,
           2966,
           2967,
           2968,
           2969,
           2970,
           2971,
           2972,
           2973,
           2974,
           2975
          ],
          "coloraxis": "coloraxis",
          "size": 5,
          "symbol": "circle"
         },
         "mode": "markers",
         "name": "",
         "scene": "scene",
         "showlegend": false,
         "type": "scatter3d",
         "x": [
          50,
          80,
          50,
          50,
          50,
          50,
          85,
          85,
          85,
          45,
          45,
          70,
          70,
          60,
          80,
          80,
          80,
          65,
          65,
          70,
          70,
          70,
          50,
          50,
          45,
          80,
          85,
          85,
          80,
          80,
          75,
          75,
          70,
          70,
          85,
          70,
          65,
          65,
          50,
          50,
          75,
          75,
          85,
          85,
          40,
          40,
          40,
          40,
          60,
          60,
          65,
          65,
          75,
          75,
          80,
          80,
          75,
          75,
          60,
          85,
          85,
          50,
          50,
          75,
          80,
          80,
          80,
          80,
          70,
          70,
          75,
          75,
          70,
          70,
          70,
          75,
          75,
          85,
          85,
          65,
          65,
          70,
          70,
          70,
          70,
          75,
          75,
          75,
          75,
          60,
          60,
          65,
          50,
          50,
          50,
          50,
          85,
          85,
          80,
          80,
          60,
          40,
          40,
          40,
          85,
          85,
          80,
          75,
          55,
          55,
          85,
          85,
          65,
          70,
          70,
          35,
          35,
          35,
          65,
          65,
          55,
          75,
          75,
          75,
          55,
          55,
          70,
          85,
          75,
          75,
          50,
          75,
          75,
          50,
          50,
          75,
          75,
          50,
          50,
          50,
          75,
          75,
          75,
          75,
          75,
          75,
          20,
          70,
          70,
          65,
          65,
          65,
          55,
          25,
          25,
          25,
          60,
          60,
          60,
          60,
          60,
          60,
          70,
          70,
          70,
          70,
          60,
          60,
          45,
          45,
          30,
          30,
          40,
          40,
          80,
          80,
          80,
          80,
          80,
          65,
          65,
          65,
          65,
          65,
          65,
          85,
          85,
          85,
          85,
          70,
          70,
          80,
          80,
          65,
          65,
          45,
          45,
          85,
          85,
          70,
          70,
          70,
          80,
          80,
          80,
          80,
          40,
          40,
          60,
          30,
          30,
          70,
          55,
          85,
          65,
          60,
          65,
          65,
          80,
          80,
          75,
          80,
          60,
          70,
          70,
          40,
          55,
          50,
          45,
          75,
          75,
          75,
          65,
          65,
          60,
          85,
          75,
          60,
          85,
          70,
          75,
          60,
          70,
          70,
          70,
          70,
          70,
          85,
          70,
          70,
          65,
          65,
          70,
          70,
          45,
          45,
          45,
          70,
          70,
          80,
          65,
          65,
          55,
          85,
          70,
          70,
          75,
          65,
          65,
          65,
          65,
          65,
          65,
          60,
          85,
          85,
          70,
          80,
          50,
          75,
          80,
          65,
          65,
          45,
          70,
          75,
          70,
          75,
          80,
          40,
          45,
          65,
          40,
          65,
          75,
          55,
          80,
          80,
          80,
          80,
          80,
          45,
          85,
          85,
          85,
          45,
          55,
          80,
          80,
          80,
          80,
          75,
          65,
          80,
          80,
          80,
          65,
          65,
          65,
          40,
          40,
          40,
          75,
          75,
          75,
          65,
          55,
          85,
          85,
          85,
          70,
          80,
          65,
          55,
          65,
          70,
          75,
          45,
          80,
          80,
          55,
          55,
          55,
          80,
          85,
          85,
          75,
          65,
          70,
          40,
          40,
          50,
          65,
          65,
          65,
          45,
          80,
          55,
          70,
          65,
          80,
          75,
          85,
          75,
          70,
          70,
          70,
          75,
          60,
          60,
          70,
          70,
          70,
          65,
          65,
          50,
          80,
          80,
          65,
          65,
          65,
          65,
          80,
          80,
          70,
          40,
          70,
          70,
          85,
          75,
          75,
          75,
          75,
          70,
          80,
          80,
          75,
          80,
          80,
          80,
          85,
          60,
          75,
          65,
          85,
          85,
          85,
          85,
          70,
          70,
          65,
          65,
          45,
          45,
          85,
          75,
          75,
          75,
          55,
          55,
          65,
          65,
          65,
          65,
          65,
          80,
          80,
          80,
          80,
          80,
          60,
          65,
          65,
          45,
          45,
          70,
          70,
          60,
          65,
          85,
          65,
          75,
          85,
          80,
          75,
          70,
          35,
          35,
          70,
          70,
          80,
          60,
          70,
          70,
          55,
          55,
          65,
          65,
          60,
          70,
          75,
          45,
          60,
          55,
          70,
          75,
          80,
          60,
          60,
          70,
          40,
          85,
          60,
          80,
          80,
          80,
          70,
          45,
          45,
          65,
          65,
          60,
          75,
          75,
          70,
          45,
          55,
          75,
          75,
          75,
          75,
          55,
          50,
          80,
          75,
          65,
          70,
          60,
          65,
          85,
          75,
          55,
          70,
          50,
          65,
          75,
          75,
          70,
          70,
          45,
          70,
          70,
          40,
          40
         ],
         "y": [
          1,
          0,
          1,
          1,
          1,
          1,
          1,
          1,
          1,
          1,
          1,
          1,
          1,
          1,
          1,
          1,
          1,
          0,
          0,
          1,
          1,
          1,
          0,
          0,
          1,
          1,
          1,
          1,
          0,
          0,
          0,
          0,
          1,
          1,
          1,
          1,
          0,
          0,
          0,
          0,
          1,
          1,
          0,
          0,
          0,
          0,
          0,
          0,
          1,
          1,
          1,
          1,
          1,
          1,
          1,
          1,
          1,
          1,
          1,
          0,
          0,
          1,
          1,
          0,
          1,
          1,
          1,
          1,
          0,
          0,
          1,
          1,
          1,
          1,
          1,
          0,
          0,
          0,
          0,
          0,
          0,
          1,
          1,
          0,
          0,
          1,
          1,
          0,
          0,
          1,
          1,
          0,
          0,
          0,
          0,
          0,
          0,
          0,
          0,
          0,
          1,
          1,
          1,
          1,
          1,
          1,
          1,
          0,
          1,
          1,
          0,
          0,
          0,
          1,
          1,
          1,
          1,
          1,
          0,
          0,
          1,
          1,
          1,
          1,
          0,
          0,
          1,
          1,
          1,
          1,
          0,
          1,
          1,
          1,
          1,
          1,
          1,
          1,
          1,
          1,
          0,
          0,
          0,
          1,
          1,
          1,
          0,
          1,
          1,
          1,
          1,
          1,
          1,
          1,
          1,
          1,
          0,
          0,
          0,
          1,
          1,
          1,
          1,
          1,
          1,
          1,
          1,
          1,
          1,
          1,
          0,
          0,
          0,
          0,
          0,
          0,
          1,
          1,
          1,
          0,
          0,
          0,
          1,
          1,
          1,
          0,
          0,
          1,
          1,
          1,
          1,
          0,
          0,
          1,
          1,
          0,
          0,
          0,
          0,
          1,
          1,
          1,
          0,
          0,
          0,
          1,
          0,
          0,
          1,
          0,
          0,
          1,
          0,
          0,
          1,
          0,
          1,
          1,
          0,
          1,
          1,
          1,
          1,
          1,
          1,
          1,
          1,
          1,
          0,
          1,
          0,
          0,
          1,
          1,
          0,
          0,
          1,
          1,
          1,
          0,
          1,
          1,
          0,
          0,
          1,
          1,
          1,
          1,
          1,
          1,
          1,
          1,
          1,
          1,
          1,
          1,
          1,
          1,
          1,
          1,
          1,
          1,
          1,
          1,
          1,
          1,
          1,
          0,
          0,
          0,
          0,
          0,
          0,
          1,
          1,
          1,
          1,
          1,
          1,
          1,
          1,
          1,
          1,
          0,
          0,
          1,
          0,
          0,
          0,
          1,
          0,
          1,
          0,
          0,
          1,
          1,
          1,
          1,
          1,
          1,
          1,
          1,
          0,
          0,
          0,
          1,
          1,
          1,
          1,
          1,
          0,
          0,
          0,
          1,
          1,
          1,
          1,
          1,
          1,
          1,
          1,
          1,
          1,
          1,
          1,
          1,
          1,
          1,
          1,
          1,
          0,
          1,
          1,
          1,
          0,
          0,
          1,
          1,
          1,
          1,
          0,
          0,
          0,
          1,
          0,
          0,
          0,
          1,
          1,
          0,
          0,
          0,
          0,
          0,
          0,
          1,
          0,
          1,
          0,
          0,
          1,
          1,
          1,
          1,
          0,
          0,
          0,
          1,
          1,
          1,
          1,
          1,
          1,
          0,
          0,
          0,
          1,
          1,
          0,
          0,
          0,
          0,
          1,
          1,
          1,
          0,
          0,
          0,
          1,
          1,
          1,
          1,
          1,
          0,
          1,
          1,
          0,
          0,
          0,
          0,
          1,
          0,
          1,
          1,
          1,
          1,
          1,
          1,
          0,
          0,
          1,
          1,
          1,
          1,
          0,
          1,
          1,
          1,
          0,
          0,
          1,
          1,
          1,
          1,
          1,
          1,
          1,
          1,
          1,
          1,
          1,
          0,
          0,
          1,
          1,
          1,
          1,
          0,
          0,
          1,
          0,
          0,
          1,
          1,
          1,
          0,
          1,
          1,
          0,
          0,
          1,
          0,
          0,
          1,
          1,
          1,
          0,
          0,
          0,
          1,
          0,
          1,
          0,
          0,
          0,
          1,
          0,
          0,
          0,
          0,
          0,
          1,
          0,
          1,
          0,
          0,
          1,
          0,
          0,
          1,
          1,
          0,
          1,
          1,
          0,
          0,
          0,
          0,
          0,
          1,
          0,
          0,
          0,
          1,
          1,
          0,
          1,
          1,
          1,
          1,
          1,
          1,
          1,
          1,
          1,
          1,
          1,
          1,
          1,
          1,
          1,
          1,
          0,
          0
         ],
         "z": [
          1,
          3,
          9,
          9,
          1,
          1,
          3,
          3,
          3,
          3,
          3,
          1,
          1,
          1,
          1,
          1,
          1,
          8,
          8,
          1,
          1,
          6,
          1,
          1,
          2,
          1,
          8,
          8,
          8,
          8,
          1,
          1,
          1,
          1,
          6,
          1,
          11,
          11,
          0,
          0,
          2,
          2,
          3,
          3,
          9,
          9,
          0,
          0,
          9,
          9,
          9,
          9,
          11,
          11,
          3,
          3,
          6,
          6,
          2,
          3,
          3,
          11,
          11,
          3,
          8,
          8,
          8,
          8,
          3,
          3,
          6,
          6,
          3,
          3,
          3,
          3,
          3,
          3,
          3,
          11,
          11,
          6,
          6,
          3,
          3,
          3,
          3,
          6,
          6,
          8,
          8,
          8,
          2,
          2,
          1,
          1,
          8,
          8,
          2,
          2,
          1,
          1,
          1,
          1,
          3,
          3,
          3,
          1,
          11,
          11,
          3,
          3,
          7,
          3,
          3,
          1,
          1,
          1,
          1,
          1,
          1,
          1,
          1,
          1,
          1,
          1,
          3,
          3,
          1,
          1,
          1,
          1,
          1,
          1,
          3,
          9,
          9,
          6,
          6,
          6,
          3,
          3,
          3,
          0,
          0,
          0,
          3,
          1,
          1,
          3,
          3,
          3,
          1,
          1,
          1,
          1,
          3,
          3,
          3,
          3,
          3,
          3,
          3,
          3,
          3,
          3,
          11,
          11,
          0,
          0,
          1,
          1,
          1,
          1,
          1,
          1,
          1,
          1,
          1,
          1,
          1,
          1,
          1,
          1,
          1,
          3,
          3,
          3,
          3,
          2,
          2,
          3,
          3,
          7,
          7,
          10,
          10,
          7,
          7,
          6,
          6,
          6,
          3,
          3,
          3,
          11,
          0,
          3,
          2,
          1,
          1,
          9,
          3,
          3,
          1,
          2,
          1,
          1,
          7,
          1,
          1,
          2,
          8,
          11,
          4,
          1,
          1,
          6,
          1,
          11,
          1,
          1,
          2,
          1,
          6,
          1,
          2,
          7,
          1,
          6,
          1,
          1,
          11,
          11,
          1,
          1,
          1,
          3,
          11,
          11,
          3,
          3,
          2,
          2,
          1,
          1,
          2,
          3,
          3,
          1,
          6,
          6,
          1,
          1,
          1,
          1,
          1,
          1,
          2,
          1,
          1,
          0,
          0,
          10,
          1,
          1,
          6,
          6,
          6,
          1,
          1,
          1,
          1,
          3,
          1,
          1,
          2,
          7,
          1,
          1,
          11,
          1,
          2,
          1,
          1,
          3,
          1,
          3,
          3,
          3,
          1,
          7,
          6,
          1,
          1,
          6,
          2,
          0,
          0,
          0,
          6,
          3,
          11,
          3,
          11,
          2,
          11,
          11,
          11,
          1,
          1,
          1,
          1,
          1,
          1,
          6,
          1,
          6,
          6,
          6,
          3,
          3,
          2,
          2,
          1,
          6,
          1,
          2,
          3,
          3,
          1,
          1,
          1,
          1,
          1,
          1,
          1,
          3,
          3,
          1,
          1,
          1,
          3,
          3,
          3,
          2,
          11,
          1,
          6,
          6,
          11,
          6,
          1,
          11,
          11,
          11,
          11,
          8,
          6,
          6,
          2,
          2,
          2,
          5,
          5,
          1,
          3,
          3,
          3,
          3,
          3,
          6,
          2,
          2,
          1,
          6,
          1,
          1,
          1,
          11,
          2,
          2,
          2,
          3,
          1,
          1,
          11,
          4,
          4,
          4,
          1,
          1,
          1,
          2,
          11,
          11,
          1,
          1,
          7,
          7,
          3,
          3,
          2,
          2,
          3,
          6,
          6,
          6,
          6,
          6,
          11,
          11,
          1,
          1,
          1,
          6,
          6,
          1,
          1,
          1,
          1,
          1,
          1,
          11,
          11,
          1,
          1,
          1,
          11,
          2,
          1,
          1,
          1,
          1,
          6,
          1,
          3,
          3,
          1,
          1,
          1,
          1,
          1,
          7,
          1,
          1,
          6,
          6,
          1,
          6,
          6,
          1,
          2,
          2,
          6,
          11,
          6,
          11,
          11,
          1,
          6,
          7,
          11,
          1,
          6,
          6,
          11,
          1,
          1,
          2,
          2,
          1,
          6,
          6,
          1,
          1,
          1,
          11,
          11,
          3,
          1,
          1,
          2,
          11,
          7,
          2,
          2,
          0,
          3,
          11,
          3,
          1,
          1,
          1,
          3,
          8,
          8,
          10,
          10,
          2,
          1,
          1,
          0,
          0
         ]
        }
       ],
       "layout": {
        "autosize": true,
        "coloraxis": {
         "colorbar": {
          "title": {
           "text": "index"
          }
         },
         "colorscale": [
          [
           0,
           "#0d0887"
          ],
          [
           0.1111111111111111,
           "#46039f"
          ],
          [
           0.2222222222222222,
           "#7201a8"
          ],
          [
           0.3333333333333333,
           "#9c179e"
          ],
          [
           0.4444444444444444,
           "#bd3786"
          ],
          [
           0.5555555555555556,
           "#d8576b"
          ],
          [
           0.6666666666666666,
           "#ed7953"
          ],
          [
           0.7777777777777778,
           "#fb9f3a"
          ],
          [
           0.8888888888888888,
           "#fdca26"
          ],
          [
           1,
           "#f0f921"
          ]
         ]
        },
        "legend": {
         "tracegroupgap": 0
        },
        "scene": {
         "aspectmode": "auto",
         "aspectratio": {
          "x": 1,
          "y": 1,
          "z": 1
         },
         "camera": {
          "center": {
           "x": 0,
           "y": 0,
           "z": 0
          },
          "eye": {
           "x": -1.5494674440550944,
           "y": -0.8726794153000444,
           "z": 1.451322980842172
          },
          "projection": {
           "type": "perspective"
          },
          "up": {
           "x": 0,
           "y": 0,
           "z": 1
          }
         },
         "domain": {
          "x": [
           0,
           1
          ],
          "y": [
           0,
           1
          ]
         },
         "xaxis": {
          "title": {
           "text": "Âge"
          },
          "type": "linear"
         },
         "yaxis": {
          "title": {
           "text": "Sexe"
          },
          "type": "linear"
         },
         "zaxis": {
          "title": {
           "text": "Localisation"
          },
          "type": "linear"
         }
        },
        "template": {
         "data": {
          "bar": [
           {
            "error_x": {
             "color": "#2a3f5f"
            },
            "error_y": {
             "color": "#2a3f5f"
            },
            "marker": {
             "line": {
              "color": "#E5ECF6",
              "width": 0.5
             },
             "pattern": {
              "fillmode": "overlay",
              "size": 10,
              "solidity": 0.2
             }
            },
            "type": "bar"
           }
          ],
          "barpolar": [
           {
            "marker": {
             "line": {
              "color": "#E5ECF6",
              "width": 0.5
             },
             "pattern": {
              "fillmode": "overlay",
              "size": 10,
              "solidity": 0.2
             }
            },
            "type": "barpolar"
           }
          ],
          "carpet": [
           {
            "aaxis": {
             "endlinecolor": "#2a3f5f",
             "gridcolor": "white",
             "linecolor": "white",
             "minorgridcolor": "white",
             "startlinecolor": "#2a3f5f"
            },
            "baxis": {
             "endlinecolor": "#2a3f5f",
             "gridcolor": "white",
             "linecolor": "white",
             "minorgridcolor": "white",
             "startlinecolor": "#2a3f5f"
            },
            "type": "carpet"
           }
          ],
          "choropleth": [
           {
            "colorbar": {
             "outlinewidth": 0,
             "ticks": ""
            },
            "type": "choropleth"
           }
          ],
          "contour": [
           {
            "colorbar": {
             "outlinewidth": 0,
             "ticks": ""
            },
            "colorscale": [
             [
              0,
              "#0d0887"
             ],
             [
              0.1111111111111111,
              "#46039f"
             ],
             [
              0.2222222222222222,
              "#7201a8"
             ],
             [
              0.3333333333333333,
              "#9c179e"
             ],
             [
              0.4444444444444444,
              "#bd3786"
             ],
             [
              0.5555555555555556,
              "#d8576b"
             ],
             [
              0.6666666666666666,
              "#ed7953"
             ],
             [
              0.7777777777777778,
              "#fb9f3a"
             ],
             [
              0.8888888888888888,
              "#fdca26"
             ],
             [
              1,
              "#f0f921"
             ]
            ],
            "type": "contour"
           }
          ],
          "contourcarpet": [
           {
            "colorbar": {
             "outlinewidth": 0,
             "ticks": ""
            },
            "type": "contourcarpet"
           }
          ],
          "heatmap": [
           {
            "colorbar": {
             "outlinewidth": 0,
             "ticks": ""
            },
            "colorscale": [
             [
              0,
              "#0d0887"
             ],
             [
              0.1111111111111111,
              "#46039f"
             ],
             [
              0.2222222222222222,
              "#7201a8"
             ],
             [
              0.3333333333333333,
              "#9c179e"
             ],
             [
              0.4444444444444444,
              "#bd3786"
             ],
             [
              0.5555555555555556,
              "#d8576b"
             ],
             [
              0.6666666666666666,
              "#ed7953"
             ],
             [
              0.7777777777777778,
              "#fb9f3a"
             ],
             [
              0.8888888888888888,
              "#fdca26"
             ],
             [
              1,
              "#f0f921"
             ]
            ],
            "type": "heatmap"
           }
          ],
          "heatmapgl": [
           {
            "colorbar": {
             "outlinewidth": 0,
             "ticks": ""
            },
            "colorscale": [
             [
              0,
              "#0d0887"
             ],
             [
              0.1111111111111111,
              "#46039f"
             ],
             [
              0.2222222222222222,
              "#7201a8"
             ],
             [
              0.3333333333333333,
              "#9c179e"
             ],
             [
              0.4444444444444444,
              "#bd3786"
             ],
             [
              0.5555555555555556,
              "#d8576b"
             ],
             [
              0.6666666666666666,
              "#ed7953"
             ],
             [
              0.7777777777777778,
              "#fb9f3a"
             ],
             [
              0.8888888888888888,
              "#fdca26"
             ],
             [
              1,
              "#f0f921"
             ]
            ],
            "type": "heatmapgl"
           }
          ],
          "histogram": [
           {
            "marker": {
             "pattern": {
              "fillmode": "overlay",
              "size": 10,
              "solidity": 0.2
             }
            },
            "type": "histogram"
           }
          ],
          "histogram2d": [
           {
            "colorbar": {
             "outlinewidth": 0,
             "ticks": ""
            },
            "colorscale": [
             [
              0,
              "#0d0887"
             ],
             [
              0.1111111111111111,
              "#46039f"
             ],
             [
              0.2222222222222222,
              "#7201a8"
             ],
             [
              0.3333333333333333,
              "#9c179e"
             ],
             [
              0.4444444444444444,
              "#bd3786"
             ],
             [
              0.5555555555555556,
              "#d8576b"
             ],
             [
              0.6666666666666666,
              "#ed7953"
             ],
             [
              0.7777777777777778,
              "#fb9f3a"
             ],
             [
              0.8888888888888888,
              "#fdca26"
             ],
             [
              1,
              "#f0f921"
             ]
            ],
            "type": "histogram2d"
           }
          ],
          "histogram2dcontour": [
           {
            "colorbar": {
             "outlinewidth": 0,
             "ticks": ""
            },
            "colorscale": [
             [
              0,
              "#0d0887"
             ],
             [
              0.1111111111111111,
              "#46039f"
             ],
             [
              0.2222222222222222,
              "#7201a8"
             ],
             [
              0.3333333333333333,
              "#9c179e"
             ],
             [
              0.4444444444444444,
              "#bd3786"
             ],
             [
              0.5555555555555556,
              "#d8576b"
             ],
             [
              0.6666666666666666,
              "#ed7953"
             ],
             [
              0.7777777777777778,
              "#fb9f3a"
             ],
             [
              0.8888888888888888,
              "#fdca26"
             ],
             [
              1,
              "#f0f921"
             ]
            ],
            "type": "histogram2dcontour"
           }
          ],
          "mesh3d": [
           {
            "colorbar": {
             "outlinewidth": 0,
             "ticks": ""
            },
            "type": "mesh3d"
           }
          ],
          "parcoords": [
           {
            "line": {
             "colorbar": {
              "outlinewidth": 0,
              "ticks": ""
             }
            },
            "type": "parcoords"
           }
          ],
          "pie": [
           {
            "automargin": true,
            "type": "pie"
           }
          ],
          "scatter": [
           {
            "fillpattern": {
             "fillmode": "overlay",
             "size": 10,
             "solidity": 0.2
            },
            "type": "scatter"
           }
          ],
          "scatter3d": [
           {
            "line": {
             "colorbar": {
              "outlinewidth": 0,
              "ticks": ""
             }
            },
            "marker": {
             "colorbar": {
              "outlinewidth": 0,
              "ticks": ""
             }
            },
            "type": "scatter3d"
           }
          ],
          "scattercarpet": [
           {
            "marker": {
             "colorbar": {
              "outlinewidth": 0,
              "ticks": ""
             }
            },
            "type": "scattercarpet"
           }
          ],
          "scattergeo": [
           {
            "marker": {
             "colorbar": {
              "outlinewidth": 0,
              "ticks": ""
             }
            },
            "type": "scattergeo"
           }
          ],
          "scattergl": [
           {
            "marker": {
             "colorbar": {
              "outlinewidth": 0,
              "ticks": ""
             }
            },
            "type": "scattergl"
           }
          ],
          "scattermapbox": [
           {
            "marker": {
             "colorbar": {
              "outlinewidth": 0,
              "ticks": ""
             }
            },
            "type": "scattermapbox"
           }
          ],
          "scatterpolar": [
           {
            "marker": {
             "colorbar": {
              "outlinewidth": 0,
              "ticks": ""
             }
            },
            "type": "scatterpolar"
           }
          ],
          "scatterpolargl": [
           {
            "marker": {
             "colorbar": {
              "outlinewidth": 0,
              "ticks": ""
             }
            },
            "type": "scatterpolargl"
           }
          ],
          "scatterternary": [
           {
            "marker": {
             "colorbar": {
              "outlinewidth": 0,
              "ticks": ""
             }
            },
            "type": "scatterternary"
           }
          ],
          "surface": [
           {
            "colorbar": {
             "outlinewidth": 0,
             "ticks": ""
            },
            "colorscale": [
             [
              0,
              "#0d0887"
             ],
             [
              0.1111111111111111,
              "#46039f"
             ],
             [
              0.2222222222222222,
              "#7201a8"
             ],
             [
              0.3333333333333333,
              "#9c179e"
             ],
             [
              0.4444444444444444,
              "#bd3786"
             ],
             [
              0.5555555555555556,
              "#d8576b"
             ],
             [
              0.6666666666666666,
              "#ed7953"
             ],
             [
              0.7777777777777778,
              "#fb9f3a"
             ],
             [
              0.8888888888888888,
              "#fdca26"
             ],
             [
              1,
              "#f0f921"
             ]
            ],
            "type": "surface"
           }
          ],
          "table": [
           {
            "cells": {
             "fill": {
              "color": "#EBF0F8"
             },
             "line": {
              "color": "white"
             }
            },
            "header": {
             "fill": {
              "color": "#C8D4E3"
             },
             "line": {
              "color": "white"
             }
            },
            "type": "table"
           }
          ]
         },
         "layout": {
          "annotationdefaults": {
           "arrowcolor": "#2a3f5f",
           "arrowhead": 0,
           "arrowwidth": 1
          },
          "autotypenumbers": "strict",
          "coloraxis": {
           "colorbar": {
            "outlinewidth": 0,
            "ticks": ""
           }
          },
          "colorscale": {
           "diverging": [
            [
             0,
             "#8e0152"
            ],
            [
             0.1,
             "#c51b7d"
            ],
            [
             0.2,
             "#de77ae"
            ],
            [
             0.3,
             "#f1b6da"
            ],
            [
             0.4,
             "#fde0ef"
            ],
            [
             0.5,
             "#f7f7f7"
            ],
            [
             0.6,
             "#e6f5d0"
            ],
            [
             0.7,
             "#b8e186"
            ],
            [
             0.8,
             "#7fbc41"
            ],
            [
             0.9,
             "#4d9221"
            ],
            [
             1,
             "#276419"
            ]
           ],
           "sequential": [
            [
             0,
             "#0d0887"
            ],
            [
             0.1111111111111111,
             "#46039f"
            ],
            [
             0.2222222222222222,
             "#7201a8"
            ],
            [
             0.3333333333333333,
             "#9c179e"
            ],
            [
             0.4444444444444444,
             "#bd3786"
            ],
            [
             0.5555555555555556,
             "#d8576b"
            ],
            [
             0.6666666666666666,
             "#ed7953"
            ],
            [
             0.7777777777777778,
             "#fb9f3a"
            ],
            [
             0.8888888888888888,
             "#fdca26"
            ],
            [
             1,
             "#f0f921"
            ]
           ],
           "sequentialminus": [
            [
             0,
             "#0d0887"
            ],
            [
             0.1111111111111111,
             "#46039f"
            ],
            [
             0.2222222222222222,
             "#7201a8"
            ],
            [
             0.3333333333333333,
             "#9c179e"
            ],
            [
             0.4444444444444444,
             "#bd3786"
            ],
            [
             0.5555555555555556,
             "#d8576b"
            ],
            [
             0.6666666666666666,
             "#ed7953"
            ],
            [
             0.7777777777777778,
             "#fb9f3a"
            ],
            [
             0.8888888888888888,
             "#fdca26"
            ],
            [
             1,
             "#f0f921"
            ]
           ]
          },
          "colorway": [
           "#636efa",
           "#EF553B",
           "#00cc96",
           "#ab63fa",
           "#FFA15A",
           "#19d3f3",
           "#FF6692",
           "#B6E880",
           "#FF97FF",
           "#FECB52"
          ],
          "font": {
           "color": "#2a3f5f"
          },
          "geo": {
           "bgcolor": "white",
           "lakecolor": "white",
           "landcolor": "#E5ECF6",
           "showlakes": true,
           "showland": true,
           "subunitcolor": "white"
          },
          "hoverlabel": {
           "align": "left"
          },
          "hovermode": "closest",
          "mapbox": {
           "style": "light"
          },
          "paper_bgcolor": "white",
          "plot_bgcolor": "#E5ECF6",
          "polar": {
           "angularaxis": {
            "gridcolor": "white",
            "linecolor": "white",
            "ticks": ""
           },
           "bgcolor": "#E5ECF6",
           "radialaxis": {
            "gridcolor": "white",
            "linecolor": "white",
            "ticks": ""
           }
          },
          "scene": {
           "xaxis": {
            "backgroundcolor": "#E5ECF6",
            "gridcolor": "white",
            "gridwidth": 2,
            "linecolor": "white",
            "showbackground": true,
            "ticks": "",
            "zerolinecolor": "white"
           },
           "yaxis": {
            "backgroundcolor": "#E5ECF6",
            "gridcolor": "white",
            "gridwidth": 2,
            "linecolor": "white",
            "showbackground": true,
            "ticks": "",
            "zerolinecolor": "white"
           },
           "zaxis": {
            "backgroundcolor": "#E5ECF6",
            "gridcolor": "white",
            "gridwidth": 2,
            "linecolor": "white",
            "showbackground": true,
            "ticks": "",
            "zerolinecolor": "white"
           }
          },
          "shapedefaults": {
           "line": {
            "color": "#2a3f5f"
           }
          },
          "ternary": {
           "aaxis": {
            "gridcolor": "white",
            "linecolor": "white",
            "ticks": ""
           },
           "baxis": {
            "gridcolor": "white",
            "linecolor": "white",
            "ticks": ""
           },
           "bgcolor": "#E5ECF6",
           "caxis": {
            "gridcolor": "white",
            "linecolor": "white",
            "ticks": ""
           }
          },
          "title": {
           "x": 0.05
          },
          "xaxis": {
           "automargin": true,
           "gridcolor": "white",
           "linecolor": "white",
           "ticks": "",
           "title": {
            "standoff": 15
           },
           "zerolinecolor": "white",
           "zerolinewidth": 2
          },
          "yaxis": {
           "automargin": true,
           "gridcolor": "white",
           "linecolor": "white",
           "ticks": "",
           "title": {
            "standoff": 15
           },
           "zerolinecolor": "white",
           "zerolinewidth": 2
          }
         }
        },
        "title": {
         "text": "Distribution des variables Age, Sexe et Localisation (Cas bcc)"
        }
       }
      },
      "image/png": "[encoded data removed]",
      "text/html": [
       "<div>                            <div id=\"71f83092-190c-49f4-b6ca-535213aee6de\" class=\"plotly-graph-div\" style=\"height:525px; width:100%;\"></div>            <script type=\"text/javascript\">                require([\"plotly\"], function(Plotly) {                    window.PLOTLYENV=window.PLOTLYENV || {};                                    if (document.getElementById(\"71f83092-190c-49f4-b6ca-535213aee6de\")) {                    Plotly.newPlot(                        \"71f83092-190c-49f4-b6ca-535213aee6de\",                        [{\"hovertemplate\":\"age=%{x}\\u003cbr\\u003eSexe=%{y}\\u003cbr\\u003eLocalisation=%{z}\\u003cbr\\u003eindex=%{marker.color}\\u003cextra\\u003e\\u003c\\u002fextra\\u003e\",\"legendgroup\":\"\",\"marker\":{\"color\":[2462,2463,2464,2465,2466,2467,2468,2469,2470,2471,2472,2473,2474,2475,2476,2477,2478,2479,2480,2481,2482,2483,2484,2485,2486,2487,2488,2489,2490,2491,2492,2493,2494,2495,2496,2497,2498,2499,2500,2501,2502,2503,2504,2505,2506,2507,2508,2509,2510,2511,2512,2513,2514,2515,2516,2517,2518,2519,2520,2521,2522,2523,2524,2525,2526,2527,2528,2529,2530,2531,2532,2533,2534,2535,2536,2537,2538,2539,2540,2541,2542,2543,2544,2545,2546,2547,2548,2549,2550,2551,2552,2553,2554,2555,2556,2557,2558,2559,2560,2561,2562,2563,2564,2565,2566,2567,2568,2569,2570,2571,2572,2573,2574,2575,2576,2577,2578,2579,2580,2581,2582,2583,2584,2585,2586,2587,2588,2589,2590,2591,2592,2593,2594,2595,2596,2597,2598,2599,2600,2601,2602,2603,2604,2605,2606,2607,2608,2609,2610,2611,2612,2613,2614,2615,2616,2617,2618,2619,2620,2621,2622,2623,2624,2625,2626,2627,2628,2629,2630,2631,2632,2633,2634,2635,2636,2637,2638,2639,2640,2641,2642,2643,2644,2645,2646,2647,2648,2649,2650,2651,2652,2653,2654,2655,2656,2657,2658,2659,2660,2661,2662,2663,2664,2665,2666,2667,2668,2669,2670,2671,2672,2673,2674,2675,2676,2677,2678,2679,2680,2681,2682,2683,2684,2685,2686,2687,2688,2689,2690,2691,2692,2693,2694,2695,2696,2697,2698,2699,2700,2701,2702,2703,2704,2705,2706,2707,2708,2709,2710,2711,2712,2713,2714,2715,2716,2717,2718,2719,2720,2721,2722,2723,2724,2725,2726,2727,2728,2729,2730,2731,2732,2733,2734,2735,2736,2737,2738,2739,2740,2741,2742,2743,2744,2745,2746,2747,2748,2749,2750,2751,2752,2753,2754,2755,2756,2757,2758,2759,2760,2761,2762,2763,2764,2765,2766,2767,2768,2769,2770,2771,2772,2773,2774,2775,2776,2777,2778,2779,2780,2781,2782,2783,2784,2785,2786,2787,2788,2789,2790,2791,2792,2793,2794,2795,2796,2797,2798,2799,2800,2801,2802,2803,2804,2805,2806,2807,2808,2809,2810,2811,2812,2813,2814,2815,2816,2817,2818,2819,2820,2821,2822,2823,2824,2825,2826,2827,2828,2829,2830,2831,2832,2833,2834,2835,2836,2837,2838,2839,2840,2841,2842,2843,2844,2845,2846,2847,2848,2849,2850,2851,2852,2853,2854,2855,2856,2857,2858,2859,2860,2861,2862,2863,2864,2865,2866,2867,2868,2869,2870,2871,2872,2873,2874,2875,2876,2877,2878,2879,2880,2881,2882,2883,2884,2885,2886,2887,2888,2889,2890,2891,2892,2893,2894,2895,2896,2897,2898,2899,2900,2901,2902,2903,2904,2905,2906,2907,2908,2909,2910,2911,2912,2913,2914,2915,2916,2917,2918,2919,2920,2921,2922,2923,2924,2925,2926,2927,2928,2929,2930,2931,2932,2933,2934,2935,2936,2937,2938,2939,2940,2941,2942,2943,2944,2945,2946,2947,2948,2949,2950,2951,2952,2953,2954,2955,2956,2957,2958,2959,2960,2961,2962,2963,2964,2965,2966,2967,2968,2969,2970,2971,2972,2973,2974,2975],\"coloraxis\":\"coloraxis\",\"symbol\":\"circle\",\"size\":5},\"mode\":\"markers\",\"name\":\"\",\"scene\":\"scene\",\"showlegend\":false,\"x\":[50.0,80.0,50.0,50.0,50.0,50.0,85.0,85.0,85.0,45.0,45.0,70.0,70.0,60.0,80.0,80.0,80.0,65.0,65.0,70.0,70.0,70.0,50.0,50.0,45.0,80.0,85.0,85.0,80.0,80.0,75.0,75.0,70.0,70.0,85.0,70.0,65.0,65.0,50.0,50.0,75.0,75.0,85.0,85.0,40.0,40.0,40.0,40.0,60.0,60.0,65.0,65.0,75.0,75.0,80.0,80.0,75.0,75.0,60.0,85.0,85.0,50.0,50.0,75.0,80.0,80.0,80.0,80.0,70.0,70.0,75.0,75.0,70.0,70.0,70.0,75.0,75.0,85.0,85.0,65.0,65.0,70.0,70.0,70.0,70.0,75.0,75.0,75.0,75.0,60.0,60.0,65.0,50.0,50.0,50.0,50.0,85.0,85.0,80.0,80.0,60.0,40.0,40.0,40.0,85.0,85.0,80.0,75.0,55.0,55.0,85.0,85.0,65.0,70.0,70.0,35.0,35.0,35.0,65.0,65.0,55.0,75.0,75.0,75.0,55.0,55.0,70.0,85.0,75.0,75.0,50.0,75.0,75.0,50.0,50.0,75.0,75.0,50.0,50.0,50.0,75.0,75.0,75.0,75.0,75.0,75.0,20.0,70.0,70.0,65.0,65.0,65.0,55.0,25.0,25.0,25.0,60.0,60.0,60.0,60.0,60.0,60.0,70.0,70.0,70.0,70.0,60.0,60.0,45.0,45.0,30.0,30.0,40.0,40.0,80.0,80.0,80.0,80.0,80.0,65.0,65.0,65.0,65.0,65.0,65.0,85.0,85.0,85.0,85.0,70.0,70.0,80.0,80.0,65.0,65.0,45.0,45.0,85.0,85.0,70.0,70.0,70.0,80.0,80.0,80.0,80.0,40.0,40.0,60.0,30.0,30.0,70.0,55.0,85.0,65.0,60.0,65.0,65.0,80.0,80.0,75.0,80.0,60.0,70.0,70.0,40.0,55.0,50.0,45.0,75.0,75.0,75.0,65.0,65.0,60.0,85.0,75.0,60.0,85.0,70.0,75.0,60.0,70.0,70.0,70.0,70.0,70.0,85.0,70.0,70.0,65.0,65.0,70.0,70.0,45.0,45.0,45.0,70.0,70.0,80.0,65.0,65.0,55.0,85.0,70.0,70.0,75.0,65.0,65.0,65.0,65.0,65.0,65.0,60.0,85.0,85.0,70.0,80.0,50.0,75.0,80.0,65.0,65.0,45.0,70.0,75.0,70.0,75.0,80.0,40.0,45.0,65.0,40.0,65.0,75.0,55.0,80.0,80.0,80.0,80.0,80.0,45.0,85.0,85.0,85.0,45.0,55.0,80.0,80.0,80.0,80.0,75.0,65.0,80.0,80.0,80.0,65.0,65.0,65.0,40.0,40.0,40.0,75.0,75.0,75.0,65.0,55.0,85.0,85.0,85.0,70.0,80.0,65.0,55.0,65.0,70.0,75.0,45.0,80.0,80.0,55.0,55.0,55.0,80.0,85.0,85.0,75.0,65.0,70.0,40.0,40.0,50.0,65.0,65.0,65.0,45.0,80.0,55.0,70.0,65.0,80.0,75.0,85.0,75.0,70.0,70.0,70.0,75.0,60.0,60.0,70.0,70.0,70.0,65.0,65.0,50.0,80.0,80.0,65.0,65.0,65.0,65.0,80.0,80.0,70.0,40.0,70.0,70.0,85.0,75.0,75.0,75.0,75.0,70.0,80.0,80.0,75.0,80.0,80.0,80.0,85.0,60.0,75.0,65.0,85.0,85.0,85.0,85.0,70.0,70.0,65.0,65.0,45.0,45.0,85.0,75.0,75.0,75.0,55.0,55.0,65.0,65.0,65.0,65.0,65.0,80.0,80.0,80.0,80.0,80.0,60.0,65.0,65.0,45.0,45.0,70.0,70.0,60.0,65.0,85.0,65.0,75.0,85.0,80.0,75.0,70.0,35.0,35.0,70.0,70.0,80.0,60.0,70.0,70.0,55.0,55.0,65.0,65.0,60.0,70.0,75.0,45.0,60.0,55.0,70.0,75.0,80.0,60.0,60.0,70.0,40.0,85.0,60.0,80.0,80.0,80.0,70.0,45.0,45.0,65.0,65.0,60.0,75.0,75.0,70.0,45.0,55.0,75.0,75.0,75.0,75.0,55.0,50.0,80.0,75.0,65.0,70.0,60.0,65.0,85.0,75.0,55.0,70.0,50.0,65.0,75.0,75.0,70.0,70.0,45.0,70.0,70.0,40.0,40.0],\"y\":[1,0,1,1,1,1,1,1,1,1,1,1,1,1,1,1,1,0,0,1,1,1,0,0,1,1,1,1,0,0,0,0,1,1,1,1,0,0,0,0,1,1,0,0,0,0,0,0,1,1,1,1,1,1,1,1,1,1,1,0,0,1,1,0,1,1,1,1,0,0,1,1,1,1,1,0,0,0,0,0,0,1,1,0,0,1,1,0,0,1,1,0,0,0,0,0,0,0,0,0,1,1,1,1,1,1,1,0,1,1,0,0,0,1,1,1,1,1,0,0,1,1,1,1,0,0,1,1,1,1,0,1,1,1,1,1,1,1,1,1,0,0,0,1,1,1,0,1,1,1,1,1,1,1,1,1,0,0,0,1,1,1,1,1,1,1,1,1,1,1,0,0,0,0,0,0,1,1,1,0,0,0,1,1,1,0,0,1,1,1,1,0,0,1,1,0,0,0,0,1,1,1,0,0,0,1,0,0,1,0,0,1,0,0,1,0,1,1,0,1,1,1,1,1,1,1,1,1,0,1,0,0,1,1,0,0,1,1,1,0,1,1,0,0,1,1,1,1,1,1,1,1,1,1,1,1,1,1,1,1,1,1,1,1,1,1,1,0,0,0,0,0,0,1,1,1,1,1,1,1,1,1,1,0,0,1,0,0,0,1,0,1,0,0,1,1,1,1,1,1,1,1,0,0,0,1,1,1,1,1,0,0,0,1,1,1,1,1,1,1,1,1,1,1,1,1,1,1,1,1,0,1,1,1,0,0,1,1,1,1,0,0,0,1,0,0,0,1,1,0,0,0,0,0,0,1,0,1,0,0,1,1,1,1,0,0,0,1,1,1,1,1,1,0,0,0,1,1,0,0,0,0,1,1,1,0,0,0,1,1,1,1,1,0,1,1,0,0,0,0,1,0,1,1,1,1,1,1,0,0,1,1,1,1,0,1,1,1,0,0,1,1,1,1,1,1,1,1,1,1,1,0,0,1,1,1,1,0,0,1,0,0,1,1,1,0,1,1,0,0,1,0,0,1,1,1,0,0,0,1,0,1,0,0,0,1,0,0,0,0,0,1,0,1,0,0,1,0,0,1,1,0,1,1,0,0,0,0,0,1,0,0,0,1,1,0,1,1,1,1,1,1,1,1,1,1,1,1,1,1,1,1,0,0],\"z\":[1,3,9,9,1,1,3,3,3,3,3,1,1,1,1,1,1,8,8,1,1,6,1,1,2,1,8,8,8,8,1,1,1,1,6,1,11,11,0,0,2,2,3,3,9,9,0,0,9,9,9,9,11,11,3,3,6,6,2,3,3,11,11,3,8,8,8,8,3,3,6,6,3,3,3,3,3,3,3,11,11,6,6,3,3,3,3,6,6,8,8,8,2,2,1,1,8,8,2,2,1,1,1,1,3,3,3,1,11,11,3,3,7,3,3,1,1,1,1,1,1,1,1,1,1,1,3,3,1,1,1,1,1,1,3,9,9,6,6,6,3,3,3,0,0,0,3,1,1,3,3,3,1,1,1,1,3,3,3,3,3,3,3,3,3,3,11,11,0,0,1,1,1,1,1,1,1,1,1,1,1,1,1,1,1,3,3,3,3,2,2,3,3,7,7,10,10,7,7,6,6,6,3,3,3,11,0,3,2,1,1,9,3,3,1,2,1,1,7,1,1,2,8,11,4,1,1,6,1,11,1,1,2,1,6,1,2,7,1,6,1,1,11,11,1,1,1,3,11,11,3,3,2,2,1,1,2,3,3,1,6,6,1,1,1,1,1,1,2,1,1,0,0,10,1,1,6,6,6,1,1,1,1,3,1,1,2,7,1,1,11,1,2,1,1,3,1,3,3,3,1,7,6,1,1,6,2,0,0,0,6,3,11,3,11,2,11,11,11,1,1,1,1,1,1,6,1,6,6,6,3,3,2,2,1,6,1,2,3,3,1,1,1,1,1,1,1,3,3,1,1,1,3,3,3,2,11,1,6,6,11,6,1,11,11,11,11,8,6,6,2,2,2,5,5,1,3,3,3,3,3,6,2,2,1,6,1,1,1,11,2,2,2,3,1,1,11,4,4,4,1,1,1,2,11,11,1,1,7,7,3,3,2,2,3,6,6,6,6,6,11,11,1,1,1,6,6,1,1,1,1,1,1,11,11,1,1,1,11,2,1,1,1,1,6,1,3,3,1,1,1,1,1,7,1,1,6,6,1,6,6,1,2,2,6,11,6,11,11,1,6,7,11,1,6,6,11,1,1,2,2,1,6,6,1,1,1,11,11,3,1,1,2,11,7,2,2,0,3,11,3,1,1,1,3,8,8,10,10,2,1,1,0,0],\"type\":\"scatter3d\"}],                        {\"template\":{\"data\":{\"histogram2dcontour\":[{\"type\":\"histogram2dcontour\",\"colorbar\":{\"outlinewidth\":0,\"ticks\":\"\"},\"colorscale\":[[0.0,\"#0d0887\"],[0.1111111111111111,\"#46039f\"],[0.2222222222222222,\"#7201a8\"],[0.3333333333333333,\"#9c179e\"],[0.4444444444444444,\"#bd3786\"],[0.5555555555555556,\"#d8576b\"],[0.6666666666666666,\"#ed7953\"],[0.7777777777777778,\"#fb9f3a\"],[0.8888888888888888,\"#fdca26\"],[1.0,\"#f0f921\"]]}],\"choropleth\":[{\"type\":\"choropleth\",\"colorbar\":{\"outlinewidth\":0,\"ticks\":\"\"}}],\"histogram2d\":[{\"type\":\"histogram2d\",\"colorbar\":{\"outlinewidth\":0,\"ticks\":\"\"},\"colorscale\":[[0.0,\"#0d0887\"],[0.1111111111111111,\"#46039f\"],[0.2222222222222222,\"#7201a8\"],[0.3333333333333333,\"#9c179e\"],[0.4444444444444444,\"#bd3786\"],[0.5555555555555556,\"#d8576b\"],[0.6666666666666666,\"#ed7953\"],[0.7777777777777778,\"#fb9f3a\"],[0.8888888888888888,\"#fdca26\"],[1.0,\"#f0f921\"]]}],\"heatmap\":[{\"type\":\"heatmap\",\"colorbar\":{\"outlinewidth\":0,\"ticks\":\"\"},\"colorscale\":[[0.0,\"#0d0887\"],[0.1111111111111111,\"#46039f\"],[0.2222222222222222,\"#7201a8\"],[0.3333333333333333,\"#9c179e\"],[0.4444444444444444,\"#bd3786\"],[0.5555555555555556,\"#d8576b\"],[0.6666666666666666,\"#ed7953\"],[0.7777777777777778,\"#fb9f3a\"],[0.8888888888888888,\"#fdca26\"],[1.0,\"#f0f921\"]]}],\"heatmapgl\":[{\"type\":\"heatmapgl\",\"colorbar\":{\"outlinewidth\":0,\"ticks\":\"\"},\"colorscale\":[[0.0,\"#0d0887\"],[0.1111111111111111,\"#46039f\"],[0.2222222222222222,\"#7201a8\"],[0.3333333333333333,\"#9c179e\"],[0.4444444444444444,\"#bd3786\"],[0.5555555555555556,\"#d8576b\"],[0.6666666666666666,\"#ed7953\"],[0.7777777777777778,\"#fb9f3a\"],[0.8888888888888888,\"#fdca26\"],[1.0,\"#f0f921\"]]}],\"contourcarpet\":[{\"type\":\"contourcarpet\",\"colorbar\":{\"outlinewidth\":0,\"ticks\":\"\"}}],\"contour\":[{\"type\":\"contour\",\"colorbar\":{\"outlinewidth\":0,\"ticks\":\"\"},\"colorscale\":[[0.0,\"#0d0887\"],[0.1111111111111111,\"#46039f\"],[0.2222222222222222,\"#7201a8\"],[0.3333333333333333,\"#9c179e\"],[0.4444444444444444,\"#bd3786\"],[0.5555555555555556,\"#d8576b\"],[0.6666666666666666,\"#ed7953\"],[0.7777777777777778,\"#fb9f3a\"],[0.8888888888888888,\"#fdca26\"],[1.0,\"#f0f921\"]]}],\"surface\":[{\"type\":\"surface\",\"colorbar\":{\"outlinewidth\":0,\"ticks\":\"\"},\"colorscale\":[[0.0,\"#0d0887\"],[0.1111111111111111,\"#46039f\"],[0.2222222222222222,\"#7201a8\"],[0.3333333333333333,\"#9c179e\"],[0.4444444444444444,\"#bd3786\"],[0.5555555555555556,\"#d8576b\"],[0.6666666666666666,\"#ed7953\"],[0.7777777777777778,\"#fb9f3a\"],[0.8888888888888888,\"#fdca26\"],[1.0,\"#f0f921\"]]}],\"mesh3d\":[{\"type\":\"mesh3d\",\"colorbar\":{\"outlinewidth\":0,\"ticks\":\"\"}}],\"scatter\":[{\"fillpattern\":{\"fillmode\":\"overlay\",\"size\":10,\"solidity\":0.2},\"type\":\"scatter\"}],\"parcoords\":[{\"type\":\"parcoords\",\"line\":{\"colorbar\":{\"outlinewidth\":0,\"ticks\":\"\"}}}],\"scatterpolargl\":[{\"type\":\"scatterpolargl\",\"marker\":{\"colorbar\":{\"outlinewidth\":0,\"ticks\":\"\"}}}],\"bar\":[{\"error_x\":{\"color\":\"#2a3f5f\"},\"error_y\":{\"color\":\"#2a3f5f\"},\"marker\":{\"line\":{\"color\":\"#E5ECF6\",\"width\":0.5},\"pattern\":{\"fillmode\":\"overlay\",\"size\":10,\"solidity\":0.2}},\"type\":\"bar\"}],\"scattergeo\":[{\"type\":\"scattergeo\",\"marker\":{\"colorbar\":{\"outlinewidth\":0,\"ticks\":\"\"}}}],\"scatterpolar\":[{\"type\":\"scatterpolar\",\"marker\":{\"colorbar\":{\"outlinewidth\":0,\"ticks\":\"\"}}}],\"histogram\":[{\"marker\":{\"pattern\":{\"fillmode\":\"overlay\",\"size\":10,\"solidity\":0.2}},\"type\":\"histogram\"}],\"scattergl\":[{\"type\":\"scattergl\",\"marker\":{\"colorbar\":{\"outlinewidth\":0,\"ticks\":\"\"}}}],\"scatter3d\":[{\"type\":\"scatter3d\",\"line\":{\"colorbar\":{\"outlinewidth\":0,\"ticks\":\"\"}},\"marker\":{\"colorbar\":{\"outlinewidth\":0,\"ticks\":\"\"}}}],\"scattermapbox\":[{\"type\":\"scattermapbox\",\"marker\":{\"colorbar\":{\"outlinewidth\":0,\"ticks\":\"\"}}}],\"scatterternary\":[{\"type\":\"scatterternary\",\"marker\":{\"colorbar\":{\"outlinewidth\":0,\"ticks\":\"\"}}}],\"scattercarpet\":[{\"type\":\"scattercarpet\",\"marker\":{\"colorbar\":{\"outlinewidth\":0,\"ticks\":\"\"}}}],\"carpet\":[{\"aaxis\":{\"endlinecolor\":\"#2a3f5f\",\"gridcolor\":\"white\",\"linecolor\":\"white\",\"minorgridcolor\":\"white\",\"startlinecolor\":\"#2a3f5f\"},\"baxis\":{\"endlinecolor\":\"#2a3f5f\",\"gridcolor\":\"white\",\"linecolor\":\"white\",\"minorgridcolor\":\"white\",\"startlinecolor\":\"#2a3f5f\"},\"type\":\"carpet\"}],\"table\":[{\"cells\":{\"fill\":{\"color\":\"#EBF0F8\"},\"line\":{\"color\":\"white\"}},\"header\":{\"fill\":{\"color\":\"#C8D4E3\"},\"line\":{\"color\":\"white\"}},\"type\":\"table\"}],\"barpolar\":[{\"marker\":{\"line\":{\"color\":\"#E5ECF6\",\"width\":0.5},\"pattern\":{\"fillmode\":\"overlay\",\"size\":10,\"solidity\":0.2}},\"type\":\"barpolar\"}],\"pie\":[{\"automargin\":true,\"type\":\"pie\"}]},\"layout\":{\"autotypenumbers\":\"strict\",\"colorway\":[\"#636efa\",\"#EF553B\",\"#00cc96\",\"#ab63fa\",\"#FFA15A\",\"#19d3f3\",\"#FF6692\",\"#B6E880\",\"#FF97FF\",\"#FECB52\"],\"font\":{\"color\":\"#2a3f5f\"},\"hovermode\":\"closest\",\"hoverlabel\":{\"align\":\"left\"},\"paper_bgcolor\":\"white\",\"plot_bgcolor\":\"#E5ECF6\",\"polar\":{\"bgcolor\":\"#E5ECF6\",\"angularaxis\":{\"gridcolor\":\"white\",\"linecolor\":\"white\",\"ticks\":\"\"},\"radialaxis\":{\"gridcolor\":\"white\",\"linecolor\":\"white\",\"ticks\":\"\"}},\"ternary\":{\"bgcolor\":\"#E5ECF6\",\"aaxis\":{\"gridcolor\":\"white\",\"linecolor\":\"white\",\"ticks\":\"\"},\"baxis\":{\"gridcolor\":\"white\",\"linecolor\":\"white\",\"ticks\":\"\"},\"caxis\":{\"gridcolor\":\"white\",\"linecolor\":\"white\",\"ticks\":\"\"}},\"coloraxis\":{\"colorbar\":{\"outlinewidth\":0,\"ticks\":\"\"}},\"colorscale\":{\"sequential\":[[0.0,\"#0d0887\"],[0.1111111111111111,\"#46039f\"],[0.2222222222222222,\"#7201a8\"],[0.3333333333333333,\"#9c179e\"],[0.4444444444444444,\"#bd3786\"],[0.5555555555555556,\"#d8576b\"],[0.6666666666666666,\"#ed7953\"],[0.7777777777777778,\"#fb9f3a\"],[0.8888888888888888,\"#fdca26\"],[1.0,\"#f0f921\"]],\"sequentialminus\":[[0.0,\"#0d0887\"],[0.1111111111111111,\"#46039f\"],[0.2222222222222222,\"#7201a8\"],[0.3333333333333333,\"#9c179e\"],[0.4444444444444444,\"#bd3786\"],[0.5555555555555556,\"#d8576b\"],[0.6666666666666666,\"#ed7953\"],[0.7777777777777778,\"#fb9f3a\"],[0.8888888888888888,\"#fdca26\"],[1.0,\"#f0f921\"]],\"diverging\":[[0,\"#8e0152\"],[0.1,\"#c51b7d\"],[0.2,\"#de77ae\"],[0.3,\"#f1b6da\"],[0.4,\"#fde0ef\"],[0.5,\"#f7f7f7\"],[0.6,\"#e6f5d0\"],[0.7,\"#b8e186\"],[0.8,\"#7fbc41\"],[0.9,\"#4d9221\"],[1,\"#276419\"]]},\"xaxis\":{\"gridcolor\":\"white\",\"linecolor\":\"white\",\"ticks\":\"\",\"title\":{\"standoff\":15},\"zerolinecolor\":\"white\",\"automargin\":true,\"zerolinewidth\":2},\"yaxis\":{\"gridcolor\":\"white\",\"linecolor\":\"white\",\"ticks\":\"\",\"title\":{\"standoff\":15},\"zerolinecolor\":\"white\",\"automargin\":true,\"zerolinewidth\":2},\"scene\":{\"xaxis\":{\"backgroundcolor\":\"#E5ECF6\",\"gridcolor\":\"white\",\"linecolor\":\"white\",\"showbackground\":true,\"ticks\":\"\",\"zerolinecolor\":\"white\",\"gridwidth\":2},\"yaxis\":{\"backgroundcolor\":\"#E5ECF6\",\"gridcolor\":\"white\",\"linecolor\":\"white\",\"showbackground\":true,\"ticks\":\"\",\"zerolinecolor\":\"white\",\"gridwidth\":2},\"zaxis\":{\"backgroundcolor\":\"#E5ECF6\",\"gridcolor\":\"white\",\"linecolor\":\"white\",\"showbackground\":true,\"ticks\":\"\",\"zerolinecolor\":\"white\",\"gridwidth\":2}},\"shapedefaults\":{\"line\":{\"color\":\"#2a3f5f\"}},\"annotationdefaults\":{\"arrowcolor\":\"#2a3f5f\",\"arrowhead\":0,\"arrowwidth\":1},\"geo\":{\"bgcolor\":\"white\",\"landcolor\":\"#E5ECF6\",\"subunitcolor\":\"white\",\"showland\":true,\"showlakes\":true,\"lakecolor\":\"white\"},\"title\":{\"x\":0.05},\"mapbox\":{\"style\":\"light\"}}},\"scene\":{\"domain\":{\"x\":[0.0,1.0],\"y\":[0.0,1.0]},\"xaxis\":{\"title\":{\"text\":\"\\u00c2ge\"}},\"yaxis\":{\"title\":{\"text\":\"Sexe\"}},\"zaxis\":{\"title\":{\"text\":\"Localisation\"}}},\"coloraxis\":{\"colorbar\":{\"title\":{\"text\":\"index\"}},\"colorscale\":[[0.0,\"#0d0887\"],[0.1111111111111111,\"#46039f\"],[0.2222222222222222,\"#7201a8\"],[0.3333333333333333,\"#9c179e\"],[0.4444444444444444,\"#bd3786\"],[0.5555555555555556,\"#d8576b\"],[0.6666666666666666,\"#ed7953\"],[0.7777777777777778,\"#fb9f3a\"],[0.8888888888888888,\"#fdca26\"],[1.0,\"#f0f921\"]]},\"legend\":{\"tracegroupgap\":0},\"title\":{\"text\":\"Distribution des variables Age, Sexe et Localisation (Cas bcc)\"}},                        {\"responsive\": true}                    ).then(function(){\n",
       "                            \n",
       "var gd = document.getElementById('71f83092-190c-49f4-b6ca-535213aee6de');\n",
       "var x = new MutationObserver(function (mutations, observer) {{\n",
       "        var display = window.getComputedStyle(gd).display;\n",
       "        if (!display || display === 'none') {{\n",
       "            console.log([gd, 'removed!']);\n",
       "            Plotly.purge(gd);\n",
       "            observer.disconnect();\n",
       "        }}\n",
       "}});\n",
       "\n",
       "// Listen for the removal of the full notebook cells\n",
       "var notebookContainer = gd.closest('#notebook-container');\n",
       "if (notebookContainer) {{\n",
       "    x.observe(notebookContainer, {childList: true});\n",
       "}}\n",
       "\n",
       "// Listen for the clearing of the current output cell\n",
       "var outputEl = gd.closest('.output');\n",
       "if (outputEl) {{\n",
       "    x.observe(outputEl, {childList: true});\n",
       "}}\n",
       "\n",
       "                        })                };                });            </script>        </div>"
      ]
     },
     "metadata": {},
     "output_type": "display_data"
    }
   ],
   "source": [
    "import plotly.express as px\n",
    "# Créer un DataFrame avec les variables pertinentes pour les cas bcc\n",
    "bcc_data = df[df['dx'] == 'bcc'][['age', 'sex', 'localization']]\n",
    "\n",
    "bcc_data['sex'] = bcc_data['sex'].astype('category').cat.codes\n",
    "bcc_data['localization'] = bcc_data['localization'].astype('category').cat.codes\n",
    "\n",
    "# Graphique 3D interactif\n",
    "fig = px.scatter_3d(\n",
    "    bcc_data,\n",
    "    x='age',\n",
    "    y='sex',\n",
    "    z='localization',\n",
    "    color=bcc_data.index,  # Colorer par index ou autre catégorie\n",
    "    labels={'sex': 'Sexe', 'localization': 'Localisation'},\n",
    "    title=\"Distribution des variables Age, Sexe et Localisation (Cas bcc)\"\n",
    ")\n",
    "fig.update_traces(marker=dict(size=5))\n",
    "fig.update_layout(scene=dict(xaxis_title='Âge', yaxis_title='Sexe', zaxis_title='Localisation'))\n",
    "fig.show()"
   ]
  },
  {
   "cell_type": "code",
   "execution_count": 60,
   "id": "f45fe83c-3307-4be8-9c7d-7828746f6c70",
   "metadata": {},
   "outputs": [
    {
     "name": "stdout",
     "output_type": "stream",
     "text": [
      "       age  localization\n",
      "2462  50.0             1\n",
      "2463  80.0             3\n",
      "2464  50.0             9\n",
      "2465  50.0             9\n",
      "2466  50.0             1\n"
     ]
    }
   ],
   "source": [
    "from sklearn.model_selection import train_test_split\n",
    "\n",
    "# Réduire les données à l'âge et à la localisation\n",
    "bcc_data = df[df['dx'] == 'bcc'][['age', 'localization']]\n",
    "\n",
    "# Encodage des variables catégoriques\n",
    "bcc_data['localization'] = bcc_data['localization'].astype('category').cat.codes\n",
    "\n",
    "# Vérification des données\n",
    "print(bcc_data.head())"
   ]
  },
  {
   "cell_type": "code",
   "execution_count": 61,
   "id": "1804fd04-4065-44bb-adfe-a2886c6b7ea5",
   "metadata": {},
   "outputs": [
    {
     "name": "stdout",
     "output_type": "stream",
     "text": [
      "Taille des données d'entraînement : (8012, 2)\n",
      "Taille des données de test : (2003, 2)\n"
     ]
    }
   ],
   "source": [
    "# Ajouter une colonne cible (target)\n",
    "bcc_data['target'] = 1  # Label pour les cas bcc\n",
    "\n",
    "# Exemple avec des données non-bcc\n",
    "non_bcc_data = df[df['dx'] != 'bcc'][['age', 'localization']]\n",
    "non_bcc_data['localization'] = non_bcc_data['localization'].astype('category').cat.codes\n",
    "non_bcc_data['target'] = 0  # Label pour les cas non-bcc\n",
    "\n",
    "# Combiner les deux datasets\n",
    "combined_data = pd.concat([bcc_data, non_bcc_data], ignore_index=True)\n",
    "\n",
    "# Remplacer les valeurs NaN éventuelles\n",
    "combined_data = combined_data.fillna(combined_data.mean())\n",
    "\n",
    "# Séparer les caractéristiques (X) et la cible (y)\n",
    "X = combined_data[['age', 'localization']]\n",
    "y = combined_data['target']\n",
    "\n",
    "# Diviser les données en ensembles d'entraînement et de test\n",
    "X_train, X_test, y_train, y_test = train_test_split(X, y, test_size=0.2, random_state=42)\n",
    "\n",
    "print(\"Taille des données d'entraînement :\", X_train.shape)\n",
    "print(\"Taille des données de test :\", X_test.shape)"
   ]
  },
  {
   "cell_type": "code",
   "execution_count": 62,
   "id": "c1969fbc-550c-48aa-bd6e-614d26762e23",
   "metadata": {},
   "outputs": [
    {
     "name": "stdout",
     "output_type": "stream",
     "text": [
      "Exactitude du modèle : 0.9650524213679481\n",
      "\n",
      "Rapport de classification :\n",
      "               precision    recall  f1-score   support\n",
      "\n",
      "           0       0.97      0.99      0.98      1893\n",
      "           1       0.74      0.56      0.64       110\n",
      "\n",
      "    accuracy                           0.97      2003\n",
      "   macro avg       0.86      0.78      0.81      2003\n",
      "weighted avg       0.96      0.97      0.96      2003\n",
      "\n"
     ]
    }
   ],
   "source": [
    "from sklearn.ensemble import RandomForestClassifier\n",
    "from sklearn.metrics import accuracy_score, classification_report, confusion_matrix\n",
    "import seaborn as sns\n",
    "import matplotlib.pyplot as plt\n",
    "\n",
    "# Définir le modèle Random Forest\n",
    "rf_model = RandomForestClassifier(n_estimators=100, random_state=42)\n",
    "\n",
    "# Entraîner le modèle\n",
    "rf_model.fit(X_train, y_train)\n",
    "\n",
    "# Prédictions sur l'ensemble de test\n",
    "y_pred = rf_model.predict(X_test)\n",
    "\n",
    "# Évaluer les performances\n",
    "print(\"Exactitude du modèle :\", accuracy_score(y_test, y_pred))\n",
    "print(\"\\nRapport de classification :\\n\", classification_report(y_test, y_pred))"
   ]
  },
  {
   "cell_type": "code",
   "execution_count": 63,
   "id": "00c0a3a0-e186-4730-b5aa-272bbffad9be",
   "metadata": {},
   "outputs": [
    {
     "data": {
      "image/png": "[encoded data removed]",
      "text/plain": [
       "<Figure size 800x600 with 2 Axes>"
      ]
     },
     "metadata": {},
     "output_type": "display_data"
    }
   ],
   "source": [
    "# Matrice de confusion\n",
    "conf_matrix = confusion_matrix(y_test, y_pred)\n",
    "plt.figure(figsize=(8, 6))\n",
    "sns.heatmap(conf_matrix, annot=True, fmt=\"d\", cmap=\"Blues\", xticklabels=[\"Non-BCC\", \"BCC\"], yticklabels=[\"Non-BCC\", \"BCC\"])\n",
    "plt.title(\"Matrice de confusion\")\n",
    "plt.xlabel(\"Prédictions\")\n",
    "plt.ylabel(\"Vraies étiquettes\")\n",
    "plt.show()"
   ]
  },
  {
   "cell_type": "code",
   "execution_count": 64,
   "id": "579b71d7-1dc5-4aea-9ff1-b9fdb2dbeb7b",
   "metadata": {},
   "outputs": [
    {
     "name": "stderr",
     "output_type": "stream",
     "text": [
      "C:\\Users\\user\\AppData\\Local\\Temp\\ipykernel_12276\\1121956281.py:6: FutureWarning:\n",
      "\n",
      "\n",
      "\n",
      "Passing `palette` without assigning `hue` is deprecated and will be removed in v0.14.0. Assign the `y` variable to `hue` and set `legend=False` for the same effect.\n",
      "\n",
      "\n"
     ]
    },
    {
     "data": {
      "image/png": "[encoded data removed]",
      "text/plain": [
       "<Figure size 800x600 with 1 Axes>"
      ]
     },
     "metadata": {},
     "output_type": "display_data"
    }
   ],
   "source": [
    "# Importance des variables\n",
    "feature_importances = rf_model.feature_importances_\n",
    "features = X.columns\n",
    "\n",
    "plt.figure(figsize=(8, 6))\n",
    "sns.barplot(x=feature_importances, y=features, palette=\"viridis\")\n",
    "plt.title(\"Importance des caractéristiques - Random Forest\")\n",
    "plt.xlabel(\"Importance\")\n",
    "plt.ylabel(\"Caractéristique\")\n",
    "plt.show()"
   ]
  },
  {
   "cell_type": "code",
   "execution_count": null,
   "id": "26daf037-9188-45bf-b3a2-7f6158a23afd",
   "metadata": {},
   "outputs": [],
   "source": []
  }
 ],
 "metadata": {
  "kernelspec": {
   "display_name": "Python 3 (ipykernel)",
   "language": "python",
   "name": "python3"
  },
  "language_info": {
   "codemirror_mode": {
    "name": "ipython",
    "version": 3
   },
   "file_extension": ".py",
   "mimetype": "text/x-python",
   "name": "python",
   "nbconvert_exporter": "python",
   "pygments_lexer": "ipython3",
   "version": "3.12.4"
  }
 },
 "nbformat": 4,
 "nbformat_minor": 5
}
